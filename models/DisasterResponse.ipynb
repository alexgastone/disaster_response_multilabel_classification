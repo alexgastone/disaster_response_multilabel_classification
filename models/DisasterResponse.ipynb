{
  "nbformat": 4,
  "nbformat_minor": 0,
  "metadata": {
    "colab": {
      "name": "DisasterResponse.ipynb",
      "provenance": [],
      "collapsed_sections": [],
      "authorship_tag": "ABX9TyOPexisGTnPL1sILIwYeSRt",
      "include_colab_link": true
    },
    "kernelspec": {
      "name": "python3",
      "display_name": "Python 3"
    },
    "accelerator": "GPU",
    "widgets": {
      "application/vnd.jupyter.widget-state+json": {
        "0270844e9f094f439c59e2304355e705": {
          "model_module": "@jupyter-widgets/controls",
          "model_name": "HBoxModel",
          "state": {
            "_view_name": "HBoxView",
            "_dom_classes": [],
            "_model_name": "HBoxModel",
            "_view_module": "@jupyter-widgets/controls",
            "_model_module_version": "1.5.0",
            "_view_count": null,
            "_view_module_version": "1.5.0",
            "box_style": "",
            "layout": "IPY_MODEL_e3f83edbfad64d2ca70d01dfe08bdee6",
            "_model_module": "@jupyter-widgets/controls",
            "children": [
              "IPY_MODEL_3046a240a866415ba73285a84d73b456",
              "IPY_MODEL_1f26670adc4c4e16be2da93876c6cda1"
            ]
          }
        },
        "e3f83edbfad64d2ca70d01dfe08bdee6": {
          "model_module": "@jupyter-widgets/base",
          "model_name": "LayoutModel",
          "state": {
            "_view_name": "LayoutView",
            "grid_template_rows": null,
            "right": null,
            "justify_content": null,
            "_view_module": "@jupyter-widgets/base",
            "overflow": null,
            "_model_module_version": "1.2.0",
            "_view_count": null,
            "flex_flow": null,
            "width": null,
            "min_width": null,
            "border": null,
            "align_items": null,
            "bottom": null,
            "_model_module": "@jupyter-widgets/base",
            "top": null,
            "grid_column": null,
            "overflow_y": null,
            "overflow_x": null,
            "grid_auto_flow": null,
            "grid_area": null,
            "grid_template_columns": null,
            "flex": null,
            "_model_name": "LayoutModel",
            "justify_items": null,
            "grid_row": null,
            "max_height": null,
            "align_content": null,
            "visibility": null,
            "align_self": null,
            "height": null,
            "min_height": null,
            "padding": null,
            "grid_auto_rows": null,
            "grid_gap": null,
            "max_width": null,
            "order": null,
            "_view_module_version": "1.2.0",
            "grid_template_areas": null,
            "object_position": null,
            "object_fit": null,
            "grid_auto_columns": null,
            "margin": null,
            "display": null,
            "left": null
          }
        },
        "3046a240a866415ba73285a84d73b456": {
          "model_module": "@jupyter-widgets/controls",
          "model_name": "IntProgressModel",
          "state": {
            "_view_name": "ProgressView",
            "style": "IPY_MODEL_91d1d43023534168ac8f1d9557b4bd0c",
            "_dom_classes": [],
            "description": "100%",
            "_model_name": "IntProgressModel",
            "bar_style": "success",
            "max": 26216,
            "_view_module": "@jupyter-widgets/controls",
            "_model_module_version": "1.5.0",
            "value": 26216,
            "_view_count": null,
            "_view_module_version": "1.5.0",
            "orientation": "horizontal",
            "min": 0,
            "description_tooltip": null,
            "_model_module": "@jupyter-widgets/controls",
            "layout": "IPY_MODEL_fe3805110cd447248cb470e299828fa4"
          }
        },
        "1f26670adc4c4e16be2da93876c6cda1": {
          "model_module": "@jupyter-widgets/controls",
          "model_name": "HTMLModel",
          "state": {
            "_view_name": "HTMLView",
            "style": "IPY_MODEL_739c7e1a240b48449f1ef9afb2469b5c",
            "_dom_classes": [],
            "description": "",
            "_model_name": "HTMLModel",
            "placeholder": "​",
            "_view_module": "@jupyter-widgets/controls",
            "_model_module_version": "1.5.0",
            "value": " 26216/26216 [01:28&lt;00:00, 296.31it/s]",
            "_view_count": null,
            "_view_module_version": "1.5.0",
            "description_tooltip": null,
            "_model_module": "@jupyter-widgets/controls",
            "layout": "IPY_MODEL_2a5f9a1c0acc417e82f5439c46aca1cd"
          }
        },
        "91d1d43023534168ac8f1d9557b4bd0c": {
          "model_module": "@jupyter-widgets/controls",
          "model_name": "ProgressStyleModel",
          "state": {
            "_view_name": "StyleView",
            "_model_name": "ProgressStyleModel",
            "description_width": "initial",
            "_view_module": "@jupyter-widgets/base",
            "_model_module_version": "1.5.0",
            "_view_count": null,
            "_view_module_version": "1.2.0",
            "bar_color": null,
            "_model_module": "@jupyter-widgets/controls"
          }
        },
        "fe3805110cd447248cb470e299828fa4": {
          "model_module": "@jupyter-widgets/base",
          "model_name": "LayoutModel",
          "state": {
            "_view_name": "LayoutView",
            "grid_template_rows": null,
            "right": null,
            "justify_content": null,
            "_view_module": "@jupyter-widgets/base",
            "overflow": null,
            "_model_module_version": "1.2.0",
            "_view_count": null,
            "flex_flow": null,
            "width": null,
            "min_width": null,
            "border": null,
            "align_items": null,
            "bottom": null,
            "_model_module": "@jupyter-widgets/base",
            "top": null,
            "grid_column": null,
            "overflow_y": null,
            "overflow_x": null,
            "grid_auto_flow": null,
            "grid_area": null,
            "grid_template_columns": null,
            "flex": null,
            "_model_name": "LayoutModel",
            "justify_items": null,
            "grid_row": null,
            "max_height": null,
            "align_content": null,
            "visibility": null,
            "align_self": null,
            "height": null,
            "min_height": null,
            "padding": null,
            "grid_auto_rows": null,
            "grid_gap": null,
            "max_width": null,
            "order": null,
            "_view_module_version": "1.2.0",
            "grid_template_areas": null,
            "object_position": null,
            "object_fit": null,
            "grid_auto_columns": null,
            "margin": null,
            "display": null,
            "left": null
          }
        },
        "739c7e1a240b48449f1ef9afb2469b5c": {
          "model_module": "@jupyter-widgets/controls",
          "model_name": "DescriptionStyleModel",
          "state": {
            "_view_name": "StyleView",
            "_model_name": "DescriptionStyleModel",
            "description_width": "",
            "_view_module": "@jupyter-widgets/base",
            "_model_module_version": "1.5.0",
            "_view_count": null,
            "_view_module_version": "1.2.0",
            "_model_module": "@jupyter-widgets/controls"
          }
        },
        "2a5f9a1c0acc417e82f5439c46aca1cd": {
          "model_module": "@jupyter-widgets/base",
          "model_name": "LayoutModel",
          "state": {
            "_view_name": "LayoutView",
            "grid_template_rows": null,
            "right": null,
            "justify_content": null,
            "_view_module": "@jupyter-widgets/base",
            "overflow": null,
            "_model_module_version": "1.2.0",
            "_view_count": null,
            "flex_flow": null,
            "width": null,
            "min_width": null,
            "border": null,
            "align_items": null,
            "bottom": null,
            "_model_module": "@jupyter-widgets/base",
            "top": null,
            "grid_column": null,
            "overflow_y": null,
            "overflow_x": null,
            "grid_auto_flow": null,
            "grid_area": null,
            "grid_template_columns": null,
            "flex": null,
            "_model_name": "LayoutModel",
            "justify_items": null,
            "grid_row": null,
            "max_height": null,
            "align_content": null,
            "visibility": null,
            "align_self": null,
            "height": null,
            "min_height": null,
            "padding": null,
            "grid_auto_rows": null,
            "grid_gap": null,
            "max_width": null,
            "order": null,
            "_view_module_version": "1.2.0",
            "grid_template_areas": null,
            "object_position": null,
            "object_fit": null,
            "grid_auto_columns": null,
            "margin": null,
            "display": null,
            "left": null
          }
        },
        "6f4c11251481446ab56de45e52bce866": {
          "model_module": "@jupyter-widgets/controls",
          "model_name": "HBoxModel",
          "state": {
            "_view_name": "HBoxView",
            "_dom_classes": [],
            "_model_name": "HBoxModel",
            "_view_module": "@jupyter-widgets/controls",
            "_model_module_version": "1.5.0",
            "_view_count": null,
            "_view_module_version": "1.5.0",
            "box_style": "",
            "layout": "IPY_MODEL_11d76dca549244869db7d88b17758e1a",
            "_model_module": "@jupyter-widgets/controls",
            "children": [
              "IPY_MODEL_a212d3ed55da47ae9e0ce0cdd6746388",
              "IPY_MODEL_985798226958447faff0edafe440fb3e"
            ]
          }
        },
        "11d76dca549244869db7d88b17758e1a": {
          "model_module": "@jupyter-widgets/base",
          "model_name": "LayoutModel",
          "state": {
            "_view_name": "LayoutView",
            "grid_template_rows": null,
            "right": null,
            "justify_content": null,
            "_view_module": "@jupyter-widgets/base",
            "overflow": null,
            "_model_module_version": "1.2.0",
            "_view_count": null,
            "flex_flow": null,
            "width": null,
            "min_width": null,
            "border": null,
            "align_items": null,
            "bottom": null,
            "_model_module": "@jupyter-widgets/base",
            "top": null,
            "grid_column": null,
            "overflow_y": null,
            "overflow_x": null,
            "grid_auto_flow": null,
            "grid_area": null,
            "grid_template_columns": null,
            "flex": null,
            "_model_name": "LayoutModel",
            "justify_items": null,
            "grid_row": null,
            "max_height": null,
            "align_content": null,
            "visibility": null,
            "align_self": null,
            "height": null,
            "min_height": null,
            "padding": null,
            "grid_auto_rows": null,
            "grid_gap": null,
            "max_width": null,
            "order": null,
            "_view_module_version": "1.2.0",
            "grid_template_areas": null,
            "object_position": null,
            "object_fit": null,
            "grid_auto_columns": null,
            "margin": null,
            "display": null,
            "left": null
          }
        },
        "a212d3ed55da47ae9e0ce0cdd6746388": {
          "model_module": "@jupyter-widgets/controls",
          "model_name": "IntProgressModel",
          "state": {
            "_view_name": "ProgressView",
            "style": "IPY_MODEL_1c502d7dddcb4e09b270d5b17ce1b87c",
            "_dom_classes": [],
            "description": "",
            "_model_name": "IntProgressModel",
            "bar_style": "success",
            "max": 737,
            "_view_module": "@jupyter-widgets/controls",
            "_model_module_version": "1.5.0",
            "value": 737,
            "_view_count": null,
            "_view_module_version": "1.5.0",
            "orientation": "horizontal",
            "min": 0,
            "description_tooltip": null,
            "_model_module": "@jupyter-widgets/controls",
            "layout": "IPY_MODEL_9eaec8543446410d96a8c37835e1701e"
          }
        },
        "985798226958447faff0edafe440fb3e": {
          "model_module": "@jupyter-widgets/controls",
          "model_name": "HTMLModel",
          "state": {
            "_view_name": "HTMLView",
            "style": "IPY_MODEL_25fb8766156e41b89526a08ea7d8d145",
            "_dom_classes": [],
            "description": "",
            "_model_name": "HTMLModel",
            "placeholder": "​",
            "_view_module": "@jupyter-widgets/controls",
            "_model_module_version": "1.5.0",
            "value": " 1475/? [35:58&lt;00:00,  1.46s/it]",
            "_view_count": null,
            "_view_module_version": "1.5.0",
            "description_tooltip": null,
            "_model_module": "@jupyter-widgets/controls",
            "layout": "IPY_MODEL_59f626aad74140278e05efe06eed15a2"
          }
        },
        "1c502d7dddcb4e09b270d5b17ce1b87c": {
          "model_module": "@jupyter-widgets/controls",
          "model_name": "ProgressStyleModel",
          "state": {
            "_view_name": "StyleView",
            "_model_name": "ProgressStyleModel",
            "description_width": "initial",
            "_view_module": "@jupyter-widgets/base",
            "_model_module_version": "1.5.0",
            "_view_count": null,
            "_view_module_version": "1.2.0",
            "bar_color": null,
            "_model_module": "@jupyter-widgets/controls"
          }
        },
        "9eaec8543446410d96a8c37835e1701e": {
          "model_module": "@jupyter-widgets/base",
          "model_name": "LayoutModel",
          "state": {
            "_view_name": "LayoutView",
            "grid_template_rows": null,
            "right": null,
            "justify_content": null,
            "_view_module": "@jupyter-widgets/base",
            "overflow": null,
            "_model_module_version": "1.2.0",
            "_view_count": null,
            "flex_flow": null,
            "width": null,
            "min_width": null,
            "border": null,
            "align_items": null,
            "bottom": null,
            "_model_module": "@jupyter-widgets/base",
            "top": null,
            "grid_column": null,
            "overflow_y": null,
            "overflow_x": null,
            "grid_auto_flow": null,
            "grid_area": null,
            "grid_template_columns": null,
            "flex": null,
            "_model_name": "LayoutModel",
            "justify_items": null,
            "grid_row": null,
            "max_height": null,
            "align_content": null,
            "visibility": null,
            "align_self": null,
            "height": null,
            "min_height": null,
            "padding": null,
            "grid_auto_rows": null,
            "grid_gap": null,
            "max_width": null,
            "order": null,
            "_view_module_version": "1.2.0",
            "grid_template_areas": null,
            "object_position": null,
            "object_fit": null,
            "grid_auto_columns": null,
            "margin": null,
            "display": null,
            "left": null
          }
        },
        "25fb8766156e41b89526a08ea7d8d145": {
          "model_module": "@jupyter-widgets/controls",
          "model_name": "DescriptionStyleModel",
          "state": {
            "_view_name": "StyleView",
            "_model_name": "DescriptionStyleModel",
            "description_width": "",
            "_view_module": "@jupyter-widgets/base",
            "_model_module_version": "1.5.0",
            "_view_count": null,
            "_view_module_version": "1.2.0",
            "_model_module": "@jupyter-widgets/controls"
          }
        },
        "59f626aad74140278e05efe06eed15a2": {
          "model_module": "@jupyter-widgets/base",
          "model_name": "LayoutModel",
          "state": {
            "_view_name": "LayoutView",
            "grid_template_rows": null,
            "right": null,
            "justify_content": null,
            "_view_module": "@jupyter-widgets/base",
            "overflow": null,
            "_model_module_version": "1.2.0",
            "_view_count": null,
            "flex_flow": null,
            "width": null,
            "min_width": null,
            "border": null,
            "align_items": null,
            "bottom": null,
            "_model_module": "@jupyter-widgets/base",
            "top": null,
            "grid_column": null,
            "overflow_y": null,
            "overflow_x": null,
            "grid_auto_flow": null,
            "grid_area": null,
            "grid_template_columns": null,
            "flex": null,
            "_model_name": "LayoutModel",
            "justify_items": null,
            "grid_row": null,
            "max_height": null,
            "align_content": null,
            "visibility": null,
            "align_self": null,
            "height": null,
            "min_height": null,
            "padding": null,
            "grid_auto_rows": null,
            "grid_gap": null,
            "max_width": null,
            "order": null,
            "_view_module_version": "1.2.0",
            "grid_template_areas": null,
            "object_position": null,
            "object_fit": null,
            "grid_auto_columns": null,
            "margin": null,
            "display": null,
            "left": null
          }
        },
        "1e268e43dd7547c28014c7e18fdf84cf": {
          "model_module": "@jupyter-widgets/controls",
          "model_name": "HBoxModel",
          "state": {
            "_view_name": "HBoxView",
            "_dom_classes": [],
            "_model_name": "HBoxModel",
            "_view_module": "@jupyter-widgets/controls",
            "_model_module_version": "1.5.0",
            "_view_count": null,
            "_view_module_version": "1.5.0",
            "box_style": "",
            "layout": "IPY_MODEL_78f5260ca1b14699bff94883c6db8cf3",
            "_model_module": "@jupyter-widgets/controls",
            "children": [
              "IPY_MODEL_3cc862f48ad94c3da84abd80dfedfd79",
              "IPY_MODEL_84378a04d46c47e598be335a7401445d"
            ]
          }
        },
        "78f5260ca1b14699bff94883c6db8cf3": {
          "model_module": "@jupyter-widgets/base",
          "model_name": "LayoutModel",
          "state": {
            "_view_name": "LayoutView",
            "grid_template_rows": null,
            "right": null,
            "justify_content": null,
            "_view_module": "@jupyter-widgets/base",
            "overflow": null,
            "_model_module_version": "1.2.0",
            "_view_count": null,
            "flex_flow": null,
            "width": null,
            "min_width": null,
            "border": null,
            "align_items": null,
            "bottom": null,
            "_model_module": "@jupyter-widgets/base",
            "top": null,
            "grid_column": null,
            "overflow_y": null,
            "overflow_x": null,
            "grid_auto_flow": null,
            "grid_area": null,
            "grid_template_columns": null,
            "flex": null,
            "_model_name": "LayoutModel",
            "justify_items": null,
            "grid_row": null,
            "max_height": null,
            "align_content": null,
            "visibility": null,
            "align_self": null,
            "height": null,
            "min_height": null,
            "padding": null,
            "grid_auto_rows": null,
            "grid_gap": null,
            "max_width": null,
            "order": null,
            "_view_module_version": "1.2.0",
            "grid_template_areas": null,
            "object_position": null,
            "object_fit": null,
            "grid_auto_columns": null,
            "margin": null,
            "display": null,
            "left": null
          }
        },
        "3cc862f48ad94c3da84abd80dfedfd79": {
          "model_module": "@jupyter-widgets/controls",
          "model_name": "IntProgressModel",
          "state": {
            "_view_name": "ProgressView",
            "style": "IPY_MODEL_a3d6f2c7d6cf4b2c99aa20be136044ff",
            "_dom_classes": [],
            "description": "",
            "_model_name": "IntProgressModel",
            "bar_style": "success",
            "max": 81,
            "_view_module": "@jupyter-widgets/controls",
            "_model_module_version": "1.5.0",
            "value": 81,
            "_view_count": null,
            "_view_module_version": "1.5.0",
            "orientation": "horizontal",
            "min": 0,
            "description_tooltip": null,
            "_model_module": "@jupyter-widgets/controls",
            "layout": "IPY_MODEL_4fb42f15b9d841929ef4e3a5f7d2a762"
          }
        },
        "84378a04d46c47e598be335a7401445d": {
          "model_module": "@jupyter-widgets/controls",
          "model_name": "HTMLModel",
          "state": {
            "_view_name": "HTMLView",
            "style": "IPY_MODEL_f08da86b6ad24d028a6dcdbfaf1f1008",
            "_dom_classes": [],
            "description": "",
            "_model_name": "HTMLModel",
            "placeholder": "​",
            "_view_module": "@jupyter-widgets/controls",
            "_model_module_version": "1.5.0",
            "value": " 164/? [11:50&lt;00:00,  4.33s/it]",
            "_view_count": null,
            "_view_module_version": "1.5.0",
            "description_tooltip": null,
            "_model_module": "@jupyter-widgets/controls",
            "layout": "IPY_MODEL_c77e2de007de46d380318c3e03c1b911"
          }
        },
        "a3d6f2c7d6cf4b2c99aa20be136044ff": {
          "model_module": "@jupyter-widgets/controls",
          "model_name": "ProgressStyleModel",
          "state": {
            "_view_name": "StyleView",
            "_model_name": "ProgressStyleModel",
            "description_width": "initial",
            "_view_module": "@jupyter-widgets/base",
            "_model_module_version": "1.5.0",
            "_view_count": null,
            "_view_module_version": "1.2.0",
            "bar_color": null,
            "_model_module": "@jupyter-widgets/controls"
          }
        },
        "4fb42f15b9d841929ef4e3a5f7d2a762": {
          "model_module": "@jupyter-widgets/base",
          "model_name": "LayoutModel",
          "state": {
            "_view_name": "LayoutView",
            "grid_template_rows": null,
            "right": null,
            "justify_content": null,
            "_view_module": "@jupyter-widgets/base",
            "overflow": null,
            "_model_module_version": "1.2.0",
            "_view_count": null,
            "flex_flow": null,
            "width": null,
            "min_width": null,
            "border": null,
            "align_items": null,
            "bottom": null,
            "_model_module": "@jupyter-widgets/base",
            "top": null,
            "grid_column": null,
            "overflow_y": null,
            "overflow_x": null,
            "grid_auto_flow": null,
            "grid_area": null,
            "grid_template_columns": null,
            "flex": null,
            "_model_name": "LayoutModel",
            "justify_items": null,
            "grid_row": null,
            "max_height": null,
            "align_content": null,
            "visibility": null,
            "align_self": null,
            "height": null,
            "min_height": null,
            "padding": null,
            "grid_auto_rows": null,
            "grid_gap": null,
            "max_width": null,
            "order": null,
            "_view_module_version": "1.2.0",
            "grid_template_areas": null,
            "object_position": null,
            "object_fit": null,
            "grid_auto_columns": null,
            "margin": null,
            "display": null,
            "left": null
          }
        },
        "f08da86b6ad24d028a6dcdbfaf1f1008": {
          "model_module": "@jupyter-widgets/controls",
          "model_name": "DescriptionStyleModel",
          "state": {
            "_view_name": "StyleView",
            "_model_name": "DescriptionStyleModel",
            "description_width": "",
            "_view_module": "@jupyter-widgets/base",
            "_model_module_version": "1.5.0",
            "_view_count": null,
            "_view_module_version": "1.2.0",
            "_model_module": "@jupyter-widgets/controls"
          }
        },
        "c77e2de007de46d380318c3e03c1b911": {
          "model_module": "@jupyter-widgets/base",
          "model_name": "LayoutModel",
          "state": {
            "_view_name": "LayoutView",
            "grid_template_rows": null,
            "right": null,
            "justify_content": null,
            "_view_module": "@jupyter-widgets/base",
            "overflow": null,
            "_model_module_version": "1.2.0",
            "_view_count": null,
            "flex_flow": null,
            "width": null,
            "min_width": null,
            "border": null,
            "align_items": null,
            "bottom": null,
            "_model_module": "@jupyter-widgets/base",
            "top": null,
            "grid_column": null,
            "overflow_y": null,
            "overflow_x": null,
            "grid_auto_flow": null,
            "grid_area": null,
            "grid_template_columns": null,
            "flex": null,
            "_model_name": "LayoutModel",
            "justify_items": null,
            "grid_row": null,
            "max_height": null,
            "align_content": null,
            "visibility": null,
            "align_self": null,
            "height": null,
            "min_height": null,
            "padding": null,
            "grid_auto_rows": null,
            "grid_gap": null,
            "max_width": null,
            "order": null,
            "_view_module_version": "1.2.0",
            "grid_template_areas": null,
            "object_position": null,
            "object_fit": null,
            "grid_auto_columns": null,
            "margin": null,
            "display": null,
            "left": null
          }
        },
        "e95a29328b5d4e8495c3adf13150d409": {
          "model_module": "@jupyter-widgets/controls",
          "model_name": "HBoxModel",
          "state": {
            "_view_name": "HBoxView",
            "_dom_classes": [],
            "_model_name": "HBoxModel",
            "_view_module": "@jupyter-widgets/controls",
            "_model_module_version": "1.5.0",
            "_view_count": null,
            "_view_module_version": "1.5.0",
            "box_style": "",
            "layout": "IPY_MODEL_a22c1f1df9134ed3a3527fd46913a03d",
            "_model_module": "@jupyter-widgets/controls",
            "children": [
              "IPY_MODEL_8f732c3724124b25ad9b08d0bedfa39b",
              "IPY_MODEL_6ba85609bc3b4e898bd7003d21708499"
            ]
          }
        },
        "a22c1f1df9134ed3a3527fd46913a03d": {
          "model_module": "@jupyter-widgets/base",
          "model_name": "LayoutModel",
          "state": {
            "_view_name": "LayoutView",
            "grid_template_rows": null,
            "right": null,
            "justify_content": null,
            "_view_module": "@jupyter-widgets/base",
            "overflow": null,
            "_model_module_version": "1.2.0",
            "_view_count": null,
            "flex_flow": null,
            "width": null,
            "min_width": null,
            "border": null,
            "align_items": null,
            "bottom": null,
            "_model_module": "@jupyter-widgets/base",
            "top": null,
            "grid_column": null,
            "overflow_y": null,
            "overflow_x": null,
            "grid_auto_flow": null,
            "grid_area": null,
            "grid_template_columns": null,
            "flex": null,
            "_model_name": "LayoutModel",
            "justify_items": null,
            "grid_row": null,
            "max_height": null,
            "align_content": null,
            "visibility": null,
            "align_self": null,
            "height": null,
            "min_height": null,
            "padding": null,
            "grid_auto_rows": null,
            "grid_gap": null,
            "max_width": null,
            "order": null,
            "_view_module_version": "1.2.0",
            "grid_template_areas": null,
            "object_position": null,
            "object_fit": null,
            "grid_auto_columns": null,
            "margin": null,
            "display": null,
            "left": null
          }
        },
        "8f732c3724124b25ad9b08d0bedfa39b": {
          "model_module": "@jupyter-widgets/controls",
          "model_name": "IntProgressModel",
          "state": {
            "_view_name": "ProgressView",
            "style": "IPY_MODEL_76f7318f89654be4962ef7f625183ffc",
            "_dom_classes": [],
            "description": " 37%",
            "_model_name": "IntProgressModel",
            "bar_style": "danger",
            "max": 737,
            "_view_module": "@jupyter-widgets/controls",
            "_model_module_version": "1.5.0",
            "value": 274,
            "_view_count": null,
            "_view_module_version": "1.5.0",
            "orientation": "horizontal",
            "min": 0,
            "description_tooltip": null,
            "_model_module": "@jupyter-widgets/controls",
            "layout": "IPY_MODEL_9ebfa0fa1a6544349f7e41e2417a8d72"
          }
        },
        "6ba85609bc3b4e898bd7003d21708499": {
          "model_module": "@jupyter-widgets/controls",
          "model_name": "HTMLModel",
          "state": {
            "_view_name": "HTMLView",
            "style": "IPY_MODEL_99a5d6001dd94a86993740a7b2ed7460",
            "_dom_classes": [],
            "description": "",
            "_model_name": "HTMLModel",
            "placeholder": "​",
            "_view_module": "@jupyter-widgets/controls",
            "_model_module_version": "1.5.0",
            "value": " 274/737 [13:38&lt;23:03,  2.99s/it]",
            "_view_count": null,
            "_view_module_version": "1.5.0",
            "description_tooltip": null,
            "_model_module": "@jupyter-widgets/controls",
            "layout": "IPY_MODEL_9b893fd8614a4f9292f98eb05108c5db"
          }
        },
        "76f7318f89654be4962ef7f625183ffc": {
          "model_module": "@jupyter-widgets/controls",
          "model_name": "ProgressStyleModel",
          "state": {
            "_view_name": "StyleView",
            "_model_name": "ProgressStyleModel",
            "description_width": "initial",
            "_view_module": "@jupyter-widgets/base",
            "_model_module_version": "1.5.0",
            "_view_count": null,
            "_view_module_version": "1.2.0",
            "bar_color": null,
            "_model_module": "@jupyter-widgets/controls"
          }
        },
        "9ebfa0fa1a6544349f7e41e2417a8d72": {
          "model_module": "@jupyter-widgets/base",
          "model_name": "LayoutModel",
          "state": {
            "_view_name": "LayoutView",
            "grid_template_rows": null,
            "right": null,
            "justify_content": null,
            "_view_module": "@jupyter-widgets/base",
            "overflow": null,
            "_model_module_version": "1.2.0",
            "_view_count": null,
            "flex_flow": null,
            "width": null,
            "min_width": null,
            "border": null,
            "align_items": null,
            "bottom": null,
            "_model_module": "@jupyter-widgets/base",
            "top": null,
            "grid_column": null,
            "overflow_y": null,
            "overflow_x": null,
            "grid_auto_flow": null,
            "grid_area": null,
            "grid_template_columns": null,
            "flex": null,
            "_model_name": "LayoutModel",
            "justify_items": null,
            "grid_row": null,
            "max_height": null,
            "align_content": null,
            "visibility": null,
            "align_self": null,
            "height": null,
            "min_height": null,
            "padding": null,
            "grid_auto_rows": null,
            "grid_gap": null,
            "max_width": null,
            "order": null,
            "_view_module_version": "1.2.0",
            "grid_template_areas": null,
            "object_position": null,
            "object_fit": null,
            "grid_auto_columns": null,
            "margin": null,
            "display": null,
            "left": null
          }
        },
        "99a5d6001dd94a86993740a7b2ed7460": {
          "model_module": "@jupyter-widgets/controls",
          "model_name": "DescriptionStyleModel",
          "state": {
            "_view_name": "StyleView",
            "_model_name": "DescriptionStyleModel",
            "description_width": "",
            "_view_module": "@jupyter-widgets/base",
            "_model_module_version": "1.5.0",
            "_view_count": null,
            "_view_module_version": "1.2.0",
            "_model_module": "@jupyter-widgets/controls"
          }
        },
        "9b893fd8614a4f9292f98eb05108c5db": {
          "model_module": "@jupyter-widgets/base",
          "model_name": "LayoutModel",
          "state": {
            "_view_name": "LayoutView",
            "grid_template_rows": null,
            "right": null,
            "justify_content": null,
            "_view_module": "@jupyter-widgets/base",
            "overflow": null,
            "_model_module_version": "1.2.0",
            "_view_count": null,
            "flex_flow": null,
            "width": null,
            "min_width": null,
            "border": null,
            "align_items": null,
            "bottom": null,
            "_model_module": "@jupyter-widgets/base",
            "top": null,
            "grid_column": null,
            "overflow_y": null,
            "overflow_x": null,
            "grid_auto_flow": null,
            "grid_area": null,
            "grid_template_columns": null,
            "flex": null,
            "_model_name": "LayoutModel",
            "justify_items": null,
            "grid_row": null,
            "max_height": null,
            "align_content": null,
            "visibility": null,
            "align_self": null,
            "height": null,
            "min_height": null,
            "padding": null,
            "grid_auto_rows": null,
            "grid_gap": null,
            "max_width": null,
            "order": null,
            "_view_module_version": "1.2.0",
            "grid_template_areas": null,
            "object_position": null,
            "object_fit": null,
            "grid_auto_columns": null,
            "margin": null,
            "display": null,
            "left": null
          }
        }
      }
    }
  },
  "cells": [
    {
      "cell_type": "markdown",
      "metadata": {
        "id": "view-in-github",
        "colab_type": "text"
      },
      "source": [
        "<a href=\"https://colab.research.google.com/github/alexgastone/disaster_response_multilabel_classification/blob/master/models/DisasterResponse.ipynb\" target=\"_parent\"><img src=\"https://colab.research.google.com/assets/colab-badge.svg\" alt=\"Open In Colab\"/></a>"
      ]
    },
    {
      "cell_type": "markdown",
      "metadata": {
        "id": "-X_12vtOzdH2",
        "colab_type": "text"
      },
      "source": [
        "# Multilabel text classification - MODEL\n",
        "using Deep Learning"
      ]
    },
    {
      "cell_type": "markdown",
      "metadata": {
        "id": "CxxfIXdyyYhF",
        "colab_type": "text"
      },
      "source": [
        "# 1.0 Setup\n",
        "## 1.1 Installations\n",
        "Install `ktrain` for preprocessing the text data and training the model, and the `eli5` library for interpreting contributions of each word/expression in message to classification using LIME"
      ]
    },
    {
      "cell_type": "code",
      "metadata": {
        "id": "1jCRuWNeytiz",
        "colab_type": "code",
        "colab": {}
      },
      "source": [
        "!pip3 install ktrain"
      ],
      "execution_count": 0,
      "outputs": []
    },
    {
      "cell_type": "code",
      "metadata": {
        "id": "xyPGLZspyoGl",
        "colab_type": "code",
        "colab": {
          "base_uri": "https://localhost:8080/",
          "height": 34
        },
        "outputId": "f8e4455e-eeb1-4a0b-eefd-06e5e1a83b27"
      },
      "source": [
        "!pip3 install -q git+https://github.com/amaiya/eli5@tfkeras_0_10_1"
      ],
      "execution_count": 2,
      "outputs": [
        {
          "output_type": "stream",
          "text": [
            "  Building wheel for eli5 (setup.py) ... \u001b[?25l\u001b[?25hdone\n"
          ],
          "name": "stdout"
        }
      ]
    },
    {
      "cell_type": "markdown",
      "metadata": {
        "id": "KCvoC0h-zGaE",
        "colab_type": "text"
      },
      "source": [
        "## 1.2 Import librairies"
      ]
    },
    {
      "cell_type": "code",
      "metadata": {
        "id": "eAs-VLvRfXvH",
        "colab_type": "code",
        "colab": {}
      },
      "source": [
        "import pandas as pd\n",
        "from sqlalchemy import create_engine\n",
        "import os\n",
        "import numpy as np"
      ],
      "execution_count": 0,
      "outputs": []
    },
    {
      "cell_type": "code",
      "metadata": {
        "id": "WjuXZMOkFMUU",
        "colab_type": "code",
        "colab": {}
      },
      "source": [
        "import ktrain\n",
        "from ktrain import text"
      ],
      "execution_count": 0,
      "outputs": []
    },
    {
      "cell_type": "markdown",
      "metadata": {
        "id": "6qWheHsqzM2d",
        "colab_type": "text"
      },
      "source": [
        "# 2.0 Get data\n",
        "Load table from SQLite database with SQLAlchemy"
      ]
    },
    {
      "cell_type": "code",
      "metadata": {
        "id": "U5kQpOjlVwlt",
        "colab_type": "code",
        "colab": {
          "base_uri": "https://localhost:8080/",
          "height": 547
        },
        "outputId": "03b48fea-f0bb-45c7-e10d-474218709813"
      },
      "source": [
        "database_filepath = 'DisasterResponse_split.db'\n",
        "\n",
        "engine = create_engine('sqlite:///' + str(database_filepath))\n",
        "table_name = database_filepath.split('.')[0]\n",
        "table_name\n",
        "df = pd.read_sql_table(table_name, engine)\n",
        "df.head()"
      ],
      "execution_count": 269,
      "outputs": [
        {
          "output_type": "execute_result",
          "data": {
            "text/html": [
              "<div>\n",
              "<style scoped>\n",
              "    .dataframe tbody tr th:only-of-type {\n",
              "        vertical-align: middle;\n",
              "    }\n",
              "\n",
              "    .dataframe tbody tr th {\n",
              "        vertical-align: top;\n",
              "    }\n",
              "\n",
              "    .dataframe thead th {\n",
              "        text-align: right;\n",
              "    }\n",
              "</style>\n",
              "<table border=\"1\" class=\"dataframe\">\n",
              "  <thead>\n",
              "    <tr style=\"text-align: right;\">\n",
              "      <th></th>\n",
              "      <th>id</th>\n",
              "      <th>split</th>\n",
              "      <th>message</th>\n",
              "      <th>original</th>\n",
              "      <th>genre</th>\n",
              "      <th>related</th>\n",
              "      <th>request</th>\n",
              "      <th>aid_related</th>\n",
              "      <th>medical_help</th>\n",
              "      <th>medical_products</th>\n",
              "      <th>search_and_rescue</th>\n",
              "      <th>security</th>\n",
              "      <th>military</th>\n",
              "      <th>water</th>\n",
              "      <th>food</th>\n",
              "      <th>shelter</th>\n",
              "      <th>clothing</th>\n",
              "      <th>money</th>\n",
              "      <th>missing_people</th>\n",
              "      <th>refugees</th>\n",
              "      <th>death</th>\n",
              "      <th>other_aid</th>\n",
              "      <th>infrastructure_related</th>\n",
              "      <th>transport</th>\n",
              "      <th>buildings</th>\n",
              "      <th>electricity</th>\n",
              "      <th>tools</th>\n",
              "      <th>hospitals</th>\n",
              "      <th>shops</th>\n",
              "      <th>aid_centers</th>\n",
              "      <th>other_infrastructure</th>\n",
              "      <th>weather_related</th>\n",
              "      <th>floods</th>\n",
              "      <th>storm</th>\n",
              "      <th>fire</th>\n",
              "      <th>earthquake</th>\n",
              "      <th>cold</th>\n",
              "      <th>other_weather</th>\n",
              "      <th>direct_report</th>\n",
              "      <th>uncategorized</th>\n",
              "    </tr>\n",
              "  </thead>\n",
              "  <tbody>\n",
              "    <tr>\n",
              "      <th>0</th>\n",
              "      <td>2</td>\n",
              "      <td>train</td>\n",
              "      <td>Weather update - a cold front from Cuba that c...</td>\n",
              "      <td>Un front froid se retrouve sur Cuba ce matin. ...</td>\n",
              "      <td>direct</td>\n",
              "      <td>1</td>\n",
              "      <td>0</td>\n",
              "      <td>0</td>\n",
              "      <td>0</td>\n",
              "      <td>0</td>\n",
              "      <td>0</td>\n",
              "      <td>0</td>\n",
              "      <td>0</td>\n",
              "      <td>0</td>\n",
              "      <td>0</td>\n",
              "      <td>0</td>\n",
              "      <td>0</td>\n",
              "      <td>0</td>\n",
              "      <td>0</td>\n",
              "      <td>0</td>\n",
              "      <td>0</td>\n",
              "      <td>0</td>\n",
              "      <td>0</td>\n",
              "      <td>0</td>\n",
              "      <td>0</td>\n",
              "      <td>0</td>\n",
              "      <td>0</td>\n",
              "      <td>0</td>\n",
              "      <td>0</td>\n",
              "      <td>0</td>\n",
              "      <td>0</td>\n",
              "      <td>0</td>\n",
              "      <td>0</td>\n",
              "      <td>0</td>\n",
              "      <td>0</td>\n",
              "      <td>0</td>\n",
              "      <td>0</td>\n",
              "      <td>0</td>\n",
              "      <td>0</td>\n",
              "      <td>0</td>\n",
              "    </tr>\n",
              "    <tr>\n",
              "      <th>1</th>\n",
              "      <td>7</td>\n",
              "      <td>train</td>\n",
              "      <td>Is the Hurricane over or is it not over</td>\n",
              "      <td>Cyclone nan fini osinon li pa fini</td>\n",
              "      <td>direct</td>\n",
              "      <td>1</td>\n",
              "      <td>0</td>\n",
              "      <td>1</td>\n",
              "      <td>0</td>\n",
              "      <td>0</td>\n",
              "      <td>0</td>\n",
              "      <td>0</td>\n",
              "      <td>0</td>\n",
              "      <td>0</td>\n",
              "      <td>0</td>\n",
              "      <td>0</td>\n",
              "      <td>0</td>\n",
              "      <td>0</td>\n",
              "      <td>0</td>\n",
              "      <td>0</td>\n",
              "      <td>0</td>\n",
              "      <td>1</td>\n",
              "      <td>0</td>\n",
              "      <td>0</td>\n",
              "      <td>0</td>\n",
              "      <td>0</td>\n",
              "      <td>0</td>\n",
              "      <td>0</td>\n",
              "      <td>0</td>\n",
              "      <td>0</td>\n",
              "      <td>0</td>\n",
              "      <td>1</td>\n",
              "      <td>0</td>\n",
              "      <td>1</td>\n",
              "      <td>0</td>\n",
              "      <td>0</td>\n",
              "      <td>0</td>\n",
              "      <td>0</td>\n",
              "      <td>0</td>\n",
              "      <td>0</td>\n",
              "    </tr>\n",
              "    <tr>\n",
              "      <th>2</th>\n",
              "      <td>12</td>\n",
              "      <td>train</td>\n",
              "      <td>says: west side of Haiti, rest of the country ...</td>\n",
              "      <td>facade ouest d Haiti et le reste du pays aujou...</td>\n",
              "      <td>direct</td>\n",
              "      <td>1</td>\n",
              "      <td>0</td>\n",
              "      <td>0</td>\n",
              "      <td>0</td>\n",
              "      <td>0</td>\n",
              "      <td>0</td>\n",
              "      <td>0</td>\n",
              "      <td>0</td>\n",
              "      <td>0</td>\n",
              "      <td>0</td>\n",
              "      <td>0</td>\n",
              "      <td>0</td>\n",
              "      <td>0</td>\n",
              "      <td>0</td>\n",
              "      <td>0</td>\n",
              "      <td>0</td>\n",
              "      <td>0</td>\n",
              "      <td>0</td>\n",
              "      <td>0</td>\n",
              "      <td>0</td>\n",
              "      <td>0</td>\n",
              "      <td>0</td>\n",
              "      <td>0</td>\n",
              "      <td>0</td>\n",
              "      <td>0</td>\n",
              "      <td>0</td>\n",
              "      <td>0</td>\n",
              "      <td>0</td>\n",
              "      <td>0</td>\n",
              "      <td>0</td>\n",
              "      <td>0</td>\n",
              "      <td>0</td>\n",
              "      <td>0</td>\n",
              "      <td>0</td>\n",
              "      <td>0</td>\n",
              "    </tr>\n",
              "    <tr>\n",
              "      <th>3</th>\n",
              "      <td>14</td>\n",
              "      <td>train</td>\n",
              "      <td>Information about the National Palace-</td>\n",
              "      <td>Informtion au nivaux palais nationl</td>\n",
              "      <td>direct</td>\n",
              "      <td>0</td>\n",
              "      <td>0</td>\n",
              "      <td>0</td>\n",
              "      <td>0</td>\n",
              "      <td>0</td>\n",
              "      <td>0</td>\n",
              "      <td>0</td>\n",
              "      <td>0</td>\n",
              "      <td>0</td>\n",
              "      <td>0</td>\n",
              "      <td>0</td>\n",
              "      <td>0</td>\n",
              "      <td>0</td>\n",
              "      <td>0</td>\n",
              "      <td>0</td>\n",
              "      <td>0</td>\n",
              "      <td>0</td>\n",
              "      <td>0</td>\n",
              "      <td>0</td>\n",
              "      <td>0</td>\n",
              "      <td>0</td>\n",
              "      <td>0</td>\n",
              "      <td>0</td>\n",
              "      <td>0</td>\n",
              "      <td>0</td>\n",
              "      <td>0</td>\n",
              "      <td>0</td>\n",
              "      <td>0</td>\n",
              "      <td>0</td>\n",
              "      <td>0</td>\n",
              "      <td>0</td>\n",
              "      <td>0</td>\n",
              "      <td>0</td>\n",
              "      <td>0</td>\n",
              "      <td>1</td>\n",
              "    </tr>\n",
              "    <tr>\n",
              "      <th>4</th>\n",
              "      <td>15</td>\n",
              "      <td>train</td>\n",
              "      <td>Storm at sacred heart of jesus</td>\n",
              "      <td>Cyclone Coeur sacr de jesus</td>\n",
              "      <td>direct</td>\n",
              "      <td>1</td>\n",
              "      <td>0</td>\n",
              "      <td>0</td>\n",
              "      <td>0</td>\n",
              "      <td>0</td>\n",
              "      <td>0</td>\n",
              "      <td>0</td>\n",
              "      <td>0</td>\n",
              "      <td>0</td>\n",
              "      <td>0</td>\n",
              "      <td>0</td>\n",
              "      <td>0</td>\n",
              "      <td>0</td>\n",
              "      <td>0</td>\n",
              "      <td>0</td>\n",
              "      <td>0</td>\n",
              "      <td>0</td>\n",
              "      <td>0</td>\n",
              "      <td>0</td>\n",
              "      <td>0</td>\n",
              "      <td>0</td>\n",
              "      <td>0</td>\n",
              "      <td>0</td>\n",
              "      <td>0</td>\n",
              "      <td>0</td>\n",
              "      <td>0</td>\n",
              "      <td>1</td>\n",
              "      <td>0</td>\n",
              "      <td>1</td>\n",
              "      <td>0</td>\n",
              "      <td>0</td>\n",
              "      <td>0</td>\n",
              "      <td>0</td>\n",
              "      <td>0</td>\n",
              "      <td>0</td>\n",
              "    </tr>\n",
              "  </tbody>\n",
              "</table>\n",
              "</div>"
            ],
            "text/plain": [
              "   id  split  ... direct_report uncategorized\n",
              "0   2  train  ...             0             0\n",
              "1   7  train  ...             0             0\n",
              "2  12  train  ...             0             0\n",
              "3  14  train  ...             0             1\n",
              "4  15  train  ...             0             0\n",
              "\n",
              "[5 rows x 40 columns]"
            ]
          },
          "metadata": {
            "tags": []
          },
          "execution_count": 269
        }
      ]
    },
    {
      "cell_type": "code",
      "metadata": {
        "id": "j2sfE7-ifgBM",
        "colab_type": "code",
        "colab": {
          "base_uri": "https://localhost:8080/",
          "height": 547
        },
        "outputId": "5aa6ad8f-ff64-4224-8421-ccc51041e1c9"
      },
      "source": [
        "engine = create_engine('sqlite:///DisasterResponse_split.db')\n",
        "df = pd.read_sql_table('DisasterResponse_split', engine)\n",
        "df.head()"
      ],
      "execution_count": 5,
      "outputs": [
        {
          "output_type": "execute_result",
          "data": {
            "text/html": [
              "<div>\n",
              "<style scoped>\n",
              "    .dataframe tbody tr th:only-of-type {\n",
              "        vertical-align: middle;\n",
              "    }\n",
              "\n",
              "    .dataframe tbody tr th {\n",
              "        vertical-align: top;\n",
              "    }\n",
              "\n",
              "    .dataframe thead th {\n",
              "        text-align: right;\n",
              "    }\n",
              "</style>\n",
              "<table border=\"1\" class=\"dataframe\">\n",
              "  <thead>\n",
              "    <tr style=\"text-align: right;\">\n",
              "      <th></th>\n",
              "      <th>id</th>\n",
              "      <th>split</th>\n",
              "      <th>message</th>\n",
              "      <th>original</th>\n",
              "      <th>genre</th>\n",
              "      <th>related</th>\n",
              "      <th>request</th>\n",
              "      <th>aid_related</th>\n",
              "      <th>medical_help</th>\n",
              "      <th>medical_products</th>\n",
              "      <th>search_and_rescue</th>\n",
              "      <th>security</th>\n",
              "      <th>military</th>\n",
              "      <th>water</th>\n",
              "      <th>food</th>\n",
              "      <th>shelter</th>\n",
              "      <th>clothing</th>\n",
              "      <th>money</th>\n",
              "      <th>missing_people</th>\n",
              "      <th>refugees</th>\n",
              "      <th>death</th>\n",
              "      <th>other_aid</th>\n",
              "      <th>infrastructure_related</th>\n",
              "      <th>transport</th>\n",
              "      <th>buildings</th>\n",
              "      <th>electricity</th>\n",
              "      <th>tools</th>\n",
              "      <th>hospitals</th>\n",
              "      <th>shops</th>\n",
              "      <th>aid_centers</th>\n",
              "      <th>other_infrastructure</th>\n",
              "      <th>weather_related</th>\n",
              "      <th>floods</th>\n",
              "      <th>storm</th>\n",
              "      <th>fire</th>\n",
              "      <th>earthquake</th>\n",
              "      <th>cold</th>\n",
              "      <th>other_weather</th>\n",
              "      <th>direct_report</th>\n",
              "      <th>uncategorized</th>\n",
              "    </tr>\n",
              "  </thead>\n",
              "  <tbody>\n",
              "    <tr>\n",
              "      <th>0</th>\n",
              "      <td>2</td>\n",
              "      <td>train</td>\n",
              "      <td>Weather update - a cold front from Cuba that c...</td>\n",
              "      <td>Un front froid se retrouve sur Cuba ce matin. ...</td>\n",
              "      <td>direct</td>\n",
              "      <td>1</td>\n",
              "      <td>0</td>\n",
              "      <td>0</td>\n",
              "      <td>0</td>\n",
              "      <td>0</td>\n",
              "      <td>0</td>\n",
              "      <td>0</td>\n",
              "      <td>0</td>\n",
              "      <td>0</td>\n",
              "      <td>0</td>\n",
              "      <td>0</td>\n",
              "      <td>0</td>\n",
              "      <td>0</td>\n",
              "      <td>0</td>\n",
              "      <td>0</td>\n",
              "      <td>0</td>\n",
              "      <td>0</td>\n",
              "      <td>0</td>\n",
              "      <td>0</td>\n",
              "      <td>0</td>\n",
              "      <td>0</td>\n",
              "      <td>0</td>\n",
              "      <td>0</td>\n",
              "      <td>0</td>\n",
              "      <td>0</td>\n",
              "      <td>0</td>\n",
              "      <td>0</td>\n",
              "      <td>0</td>\n",
              "      <td>0</td>\n",
              "      <td>0</td>\n",
              "      <td>0</td>\n",
              "      <td>0</td>\n",
              "      <td>0</td>\n",
              "      <td>0</td>\n",
              "      <td>0</td>\n",
              "    </tr>\n",
              "    <tr>\n",
              "      <th>1</th>\n",
              "      <td>7</td>\n",
              "      <td>train</td>\n",
              "      <td>Is the Hurricane over or is it not over</td>\n",
              "      <td>Cyclone nan fini osinon li pa fini</td>\n",
              "      <td>direct</td>\n",
              "      <td>1</td>\n",
              "      <td>0</td>\n",
              "      <td>1</td>\n",
              "      <td>0</td>\n",
              "      <td>0</td>\n",
              "      <td>0</td>\n",
              "      <td>0</td>\n",
              "      <td>0</td>\n",
              "      <td>0</td>\n",
              "      <td>0</td>\n",
              "      <td>0</td>\n",
              "      <td>0</td>\n",
              "      <td>0</td>\n",
              "      <td>0</td>\n",
              "      <td>0</td>\n",
              "      <td>0</td>\n",
              "      <td>1</td>\n",
              "      <td>0</td>\n",
              "      <td>0</td>\n",
              "      <td>0</td>\n",
              "      <td>0</td>\n",
              "      <td>0</td>\n",
              "      <td>0</td>\n",
              "      <td>0</td>\n",
              "      <td>0</td>\n",
              "      <td>0</td>\n",
              "      <td>1</td>\n",
              "      <td>0</td>\n",
              "      <td>1</td>\n",
              "      <td>0</td>\n",
              "      <td>0</td>\n",
              "      <td>0</td>\n",
              "      <td>0</td>\n",
              "      <td>0</td>\n",
              "      <td>0</td>\n",
              "    </tr>\n",
              "    <tr>\n",
              "      <th>2</th>\n",
              "      <td>12</td>\n",
              "      <td>train</td>\n",
              "      <td>says: west side of Haiti, rest of the country ...</td>\n",
              "      <td>facade ouest d Haiti et le reste du pays aujou...</td>\n",
              "      <td>direct</td>\n",
              "      <td>1</td>\n",
              "      <td>0</td>\n",
              "      <td>0</td>\n",
              "      <td>0</td>\n",
              "      <td>0</td>\n",
              "      <td>0</td>\n",
              "      <td>0</td>\n",
              "      <td>0</td>\n",
              "      <td>0</td>\n",
              "      <td>0</td>\n",
              "      <td>0</td>\n",
              "      <td>0</td>\n",
              "      <td>0</td>\n",
              "      <td>0</td>\n",
              "      <td>0</td>\n",
              "      <td>0</td>\n",
              "      <td>0</td>\n",
              "      <td>0</td>\n",
              "      <td>0</td>\n",
              "      <td>0</td>\n",
              "      <td>0</td>\n",
              "      <td>0</td>\n",
              "      <td>0</td>\n",
              "      <td>0</td>\n",
              "      <td>0</td>\n",
              "      <td>0</td>\n",
              "      <td>0</td>\n",
              "      <td>0</td>\n",
              "      <td>0</td>\n",
              "      <td>0</td>\n",
              "      <td>0</td>\n",
              "      <td>0</td>\n",
              "      <td>0</td>\n",
              "      <td>0</td>\n",
              "      <td>0</td>\n",
              "    </tr>\n",
              "    <tr>\n",
              "      <th>3</th>\n",
              "      <td>14</td>\n",
              "      <td>train</td>\n",
              "      <td>Information about the National Palace-</td>\n",
              "      <td>Informtion au nivaux palais nationl</td>\n",
              "      <td>direct</td>\n",
              "      <td>0</td>\n",
              "      <td>0</td>\n",
              "      <td>0</td>\n",
              "      <td>0</td>\n",
              "      <td>0</td>\n",
              "      <td>0</td>\n",
              "      <td>0</td>\n",
              "      <td>0</td>\n",
              "      <td>0</td>\n",
              "      <td>0</td>\n",
              "      <td>0</td>\n",
              "      <td>0</td>\n",
              "      <td>0</td>\n",
              "      <td>0</td>\n",
              "      <td>0</td>\n",
              "      <td>0</td>\n",
              "      <td>0</td>\n",
              "      <td>0</td>\n",
              "      <td>0</td>\n",
              "      <td>0</td>\n",
              "      <td>0</td>\n",
              "      <td>0</td>\n",
              "      <td>0</td>\n",
              "      <td>0</td>\n",
              "      <td>0</td>\n",
              "      <td>0</td>\n",
              "      <td>0</td>\n",
              "      <td>0</td>\n",
              "      <td>0</td>\n",
              "      <td>0</td>\n",
              "      <td>0</td>\n",
              "      <td>0</td>\n",
              "      <td>0</td>\n",
              "      <td>0</td>\n",
              "      <td>1</td>\n",
              "    </tr>\n",
              "    <tr>\n",
              "      <th>4</th>\n",
              "      <td>15</td>\n",
              "      <td>train</td>\n",
              "      <td>Storm at sacred heart of jesus</td>\n",
              "      <td>Cyclone Coeur sacr de jesus</td>\n",
              "      <td>direct</td>\n",
              "      <td>1</td>\n",
              "      <td>0</td>\n",
              "      <td>0</td>\n",
              "      <td>0</td>\n",
              "      <td>0</td>\n",
              "      <td>0</td>\n",
              "      <td>0</td>\n",
              "      <td>0</td>\n",
              "      <td>0</td>\n",
              "      <td>0</td>\n",
              "      <td>0</td>\n",
              "      <td>0</td>\n",
              "      <td>0</td>\n",
              "      <td>0</td>\n",
              "      <td>0</td>\n",
              "      <td>0</td>\n",
              "      <td>0</td>\n",
              "      <td>0</td>\n",
              "      <td>0</td>\n",
              "      <td>0</td>\n",
              "      <td>0</td>\n",
              "      <td>0</td>\n",
              "      <td>0</td>\n",
              "      <td>0</td>\n",
              "      <td>0</td>\n",
              "      <td>0</td>\n",
              "      <td>1</td>\n",
              "      <td>0</td>\n",
              "      <td>1</td>\n",
              "      <td>0</td>\n",
              "      <td>0</td>\n",
              "      <td>0</td>\n",
              "      <td>0</td>\n",
              "      <td>0</td>\n",
              "      <td>0</td>\n",
              "    </tr>\n",
              "  </tbody>\n",
              "</table>\n",
              "</div>"
            ],
            "text/plain": [
              "   id  split  ... direct_report uncategorized\n",
              "0   2  train  ...             0             0\n",
              "1   7  train  ...             0             0\n",
              "2  12  train  ...             0             0\n",
              "3  14  train  ...             0             1\n",
              "4  15  train  ...             0             0\n",
              "\n",
              "[5 rows x 40 columns]"
            ]
          },
          "metadata": {
            "tags": []
          },
          "execution_count": 5
        }
      ]
    },
    {
      "cell_type": "code",
      "metadata": {
        "id": "VfFdQlavY8WJ",
        "colab_type": "code",
        "colab": {
          "base_uri": "https://localhost:8080/",
          "height": 34
        },
        "outputId": "ee02b1dc-373a-48fa-f184-9a4b4fd6c3c7"
      },
      "source": [
        "df['related'].max()"
      ],
      "execution_count": 137,
      "outputs": [
        {
          "output_type": "execute_result",
          "data": {
            "text/plain": [
              "2"
            ]
          },
          "metadata": {
            "tags": []
          },
          "execution_count": 137
        }
      ]
    },
    {
      "cell_type": "code",
      "metadata": {
        "id": "vdhS1yi2ZK-z",
        "colab_type": "code",
        "colab": {}
      },
      "source": [
        "df['related'] = df['related'].apply(lambda x: 1 if x>0 else 0)"
      ],
      "execution_count": 0,
      "outputs": []
    },
    {
      "cell_type": "code",
      "metadata": {
        "id": "xtyhy83-ZnjA",
        "colab_type": "code",
        "colab": {
          "base_uri": "https://localhost:8080/",
          "height": 34
        },
        "outputId": "f3ee92d0-5d1c-401a-d2ca-21f5150f2085"
      },
      "source": [
        "df['related'].max()"
      ],
      "execution_count": 139,
      "outputs": [
        {
          "output_type": "execute_result",
          "data": {
            "text/plain": [
              "1"
            ]
          },
          "metadata": {
            "tags": []
          },
          "execution_count": 139
        }
      ]
    },
    {
      "cell_type": "code",
      "metadata": {
        "id": "16BrsURR1Y_b",
        "colab_type": "code",
        "colab": {
          "base_uri": "https://localhost:8080/",
          "height": 34
        },
        "outputId": "6bc3df8f-3041-483e-c2d5-cca311f4b26a"
      },
      "source": [
        "# number of rows with no True label\n",
        "(df.iloc[:,4::].sum(axis=1) == 0).sum()"
      ],
      "execution_count": 5,
      "outputs": [
        {
          "output_type": "execute_result",
          "data": {
            "text/plain": [
              "0"
            ]
          },
          "metadata": {
            "tags": []
          },
          "execution_count": 5
        }
      ]
    },
    {
      "cell_type": "code",
      "metadata": {
        "id": "mPRDTuYX2Eeq",
        "colab_type": "code",
        "colab": {
          "base_uri": "https://localhost:8080/",
          "height": 34
        },
        "outputId": "267f5086-5271-488d-8042-22c86484399d"
      },
      "source": [
        "# number of rows with at least 1 True label\n",
        "(df.iloc[:,4::].sum(axis=1) > 0).sum()"
      ],
      "execution_count": 4,
      "outputs": [
        {
          "output_type": "execute_result",
          "data": {
            "text/plain": [
              "26216"
            ]
          },
          "metadata": {
            "tags": []
          },
          "execution_count": 4
        }
      ]
    },
    {
      "cell_type": "code",
      "metadata": {
        "id": "kISb5ZUCScnG",
        "colab_type": "code",
        "colab": {}
      },
      "source": [
        "df.drop(['child_alone'], axis=1, inplace=True)"
      ],
      "execution_count": 0,
      "outputs": []
    },
    {
      "cell_type": "code",
      "metadata": {
        "id": "fWT0V7hg2MUw",
        "colab_type": "code",
        "colab": {
          "base_uri": "https://localhost:8080/",
          "height": 34
        },
        "outputId": "3fb381c3-9903-4238-b9ba-6ec8805d5bc2"
      },
      "source": [
        "print(f\"Number of samples in data: {df.shape[0]}\")"
      ],
      "execution_count": 7,
      "outputs": [
        {
          "output_type": "stream",
          "text": [
            "Number of samples in data: 26216\n"
          ],
          "name": "stdout"
        }
      ]
    },
    {
      "cell_type": "code",
      "metadata": {
        "id": "8JVZ2SpOghxy",
        "colab_type": "code",
        "colab": {}
      },
      "source": [
        "#target_categories = df.columns.tolist()[4:]\n",
        "target_categories = df.columns.tolist()[5:]"
      ],
      "execution_count": 0,
      "outputs": []
    },
    {
      "cell_type": "code",
      "metadata": {
        "id": "YYIFNfZuAbK3",
        "colab_type": "code",
        "colab": {
          "base_uri": "https://localhost:8080/",
          "height": 34
        },
        "outputId": "5e877281-41a0-470f-ccde-ce104f332b51"
      },
      "source": [
        "len(target_categories)"
      ],
      "execution_count": 7,
      "outputs": [
        {
          "output_type": "execute_result",
          "data": {
            "text/plain": [
              "35"
            ]
          },
          "metadata": {
            "tags": []
          },
          "execution_count": 7
        }
      ]
    },
    {
      "cell_type": "markdown",
      "metadata": {
        "id": "L6nsv8tg8vgN",
        "colab_type": "text"
      },
      "source": [
        "# BERT\n",
        "using `transformers` from HuggingFace and pytorch"
      ]
    },
    {
      "cell_type": "code",
      "metadata": {
        "id": "rcQkSkaVCUW0",
        "colab_type": "code",
        "colab": {}
      },
      "source": [
        "!pip install transformers"
      ],
      "execution_count": 0,
      "outputs": []
    },
    {
      "cell_type": "markdown",
      "metadata": {
        "id": "7Sj68EAaIVNG",
        "colab_type": "text"
      },
      "source": [
        "## 1.0 Tokenizer"
      ]
    },
    {
      "cell_type": "code",
      "metadata": {
        "id": "e-g47pxZCUji",
        "colab_type": "code",
        "colab": {}
      },
      "source": [
        "from transformers import BertTokenizer\n",
        "\n",
        "bert_model_name = 'bert-base-uncased'\n",
        "\n",
        "tokenizer = BertTokenizer.from_pretrained(bert_model_name, do_lower_case=True)\n",
        "MAX_LEN = 128"
      ],
      "execution_count": 0,
      "outputs": []
    },
    {
      "cell_type": "code",
      "metadata": {
        "id": "POdp4fs5DgeZ",
        "colab_type": "code",
        "colab": {}
      },
      "source": [
        "from tqdm.notebook import tqdm"
      ],
      "execution_count": 0,
      "outputs": []
    },
    {
      "cell_type": "code",
      "metadata": {
        "id": "qUlcAyBNCzOE",
        "colab_type": "code",
        "colab": {}
      },
      "source": [
        "def tokenize_sentences(sentences, tokenizer, max_seq_len = 128):\n",
        "    tokenized_sentences = []\n",
        "    for sentence in tqdm(sentences):\n",
        "        tokenized_sentence = tokenizer.encode(\n",
        "                            sentence,                  # Sentence to encode.\n",
        "                            add_special_tokens = True, # Add '[CLS]' and '[SEP]'\n",
        "                            max_length = max_seq_len,  # Truncate all sentences.\n",
        "                    )\n",
        "        \n",
        "        tokenized_sentences.append(tokenized_sentence)\n",
        "    return tokenized_sentences"
      ],
      "execution_count": 0,
      "outputs": []
    },
    {
      "cell_type": "code",
      "metadata": {
        "id": "SPL_naAbCzbR",
        "colab_type": "code",
        "colab": {}
      },
      "source": [
        "def create_attention_masks(tokenized_and_padded_sentences):\n",
        "    attention_masks = []\n",
        "    for sentence in tokenized_and_padded_sentences:\n",
        "        att_mask = [int(token_id > 0) for token_id in sentence]\n",
        "        attention_masks.append(att_mask)\n",
        "    return np.asarray(attention_masks)"
      ],
      "execution_count": 0,
      "outputs": []
    },
    {
      "cell_type": "code",
      "metadata": {
        "id": "-bfE68W9DnOg",
        "colab_type": "code",
        "colab": {
          "base_uri": "https://localhost:8080/",
          "height": 83,
          "referenced_widgets": [
            "0270844e9f094f439c59e2304355e705",
            "e3f83edbfad64d2ca70d01dfe08bdee6",
            "3046a240a866415ba73285a84d73b456",
            "1f26670adc4c4e16be2da93876c6cda1",
            "91d1d43023534168ac8f1d9557b4bd0c",
            "fe3805110cd447248cb470e299828fa4",
            "739c7e1a240b48449f1ef9afb2469b5c",
            "2a5f9a1c0acc417e82f5439c46aca1cd"
          ]
        },
        "outputId": "7a4c71b3-9c6e-439e-84d6-25f57afe3598"
      },
      "source": [
        "from keras.preprocessing.sequence import pad_sequences\n",
        "\n",
        "input_ids = tokenize_sentences(df['message'], tokenizer, MAX_LEN)\n",
        "input_ids = pad_sequences(input_ids, maxlen=MAX_LEN, dtype=\"long\", value=0, truncating=\"post\", padding=\"post\")\n",
        "attention_masks = create_attention_masks(input_ids)"
      ],
      "execution_count": 13,
      "outputs": [
        {
          "output_type": "stream",
          "text": [
            "Using TensorFlow backend.\n"
          ],
          "name": "stderr"
        },
        {
          "output_type": "display_data",
          "data": {
            "application/vnd.jupyter.widget-view+json": {
              "model_id": "0270844e9f094f439c59e2304355e705",
              "version_minor": 0,
              "version_major": 2
            },
            "text/plain": [
              "HBox(children=(IntProgress(value=0, max=26216), HTML(value='')))"
            ]
          },
          "metadata": {
            "tags": []
          }
        },
        {
          "output_type": "stream",
          "text": [
            "\n"
          ],
          "name": "stdout"
        }
      ]
    },
    {
      "cell_type": "code",
      "metadata": {
        "id": "1kqYA-R4GbCy",
        "colab_type": "code",
        "colab": {}
      },
      "source": [
        "label_cols = df.columns.tolist()[4:]\n",
        "labels = df[label_cols].values "
      ],
      "execution_count": 0,
      "outputs": []
    },
    {
      "cell_type": "markdown",
      "metadata": {
        "id": "Rev6HhPmIdRm",
        "colab_type": "text"
      },
      "source": [
        "## 2.0 Preprocess datasets"
      ]
    },
    {
      "cell_type": "code",
      "metadata": {
        "id": "6NE8C_JcDnbx",
        "colab_type": "code",
        "colab": {}
      },
      "source": [
        "from sklearn.model_selection import train_test_split\n",
        "\n",
        "train_inputs, validation_inputs, train_labels, validation_labels = train_test_split(input_ids, labels, random_state=0, test_size=0.1)\n",
        "train_masks, validation_masks, _, _ = train_test_split(attention_masks, labels, random_state=0, test_size=0.1)"
      ],
      "execution_count": 0,
      "outputs": []
    },
    {
      "cell_type": "code",
      "metadata": {
        "id": "PQFX4BfMGbOw",
        "colab_type": "code",
        "colab": {
          "base_uri": "https://localhost:8080/",
          "height": 51
        },
        "outputId": "55c69733-211a-4630-c1ad-c5376f64da6e"
      },
      "source": [
        "train_size = len(train_inputs)\n",
        "validation_size = len(validation_inputs)\n",
        "\n",
        "print(f\"number of samples in training: {train_size}, number of samples in validation: {validation_size}\")\n",
        "print(f\"number of labels in training: {train_labels.shape[1]}, number of labels in validation: {validation_labels.shape[1]}\")"
      ],
      "execution_count": 16,
      "outputs": [
        {
          "output_type": "stream",
          "text": [
            "number of samples in training: 23594, number of samples in validation: 2622\n",
            "number of labels in training: 36, number of labels in validation: 36\n"
          ],
          "name": "stdout"
        }
      ]
    },
    {
      "cell_type": "code",
      "metadata": {
        "id": "twBKgzUeIDTW",
        "colab_type": "code",
        "colab": {}
      },
      "source": [
        "def create_dataset(data_tuple, epochs=1, batch_size=32, buffer_size=10000, train=True):\n",
        "    dataset = tf.data.Dataset.from_tensor_slices(data_tuple)\n",
        "    if train:\n",
        "        dataset = dataset.shuffle(buffer_size=buffer_size)\n",
        "    dataset = dataset.repeat(epochs)\n",
        "    dataset = dataset.batch(batch_size)\n",
        "    if train:\n",
        "        dataset = dataset.prefetch(1)\n",
        "    \n",
        "    return dataset"
      ],
      "execution_count": 0,
      "outputs": []
    },
    {
      "cell_type": "code",
      "metadata": {
        "id": "k4hML7V9IKH0",
        "colab_type": "code",
        "colab": {}
      },
      "source": [
        "import tensorflow as tf"
      ],
      "execution_count": 0,
      "outputs": []
    },
    {
      "cell_type": "code",
      "metadata": {
        "id": "yiOs2Os0GbbE",
        "colab_type": "code",
        "colab": {}
      },
      "source": [
        "BATCH_SIZE = 32\n",
        "NR_EPOCHS = 2\n",
        "\n",
        "train_dataset = create_dataset((train_inputs, train_masks, train_labels), epochs=NR_EPOCHS, batch_size=BATCH_SIZE)\n",
        "validation_dataset = create_dataset((validation_inputs, validation_masks, validation_labels), epochs=NR_EPOCHS, batch_size=BATCH_SIZE)"
      ],
      "execution_count": 0,
      "outputs": []
    },
    {
      "cell_type": "markdown",
      "metadata": {
        "id": "l-KV_wQxIlGD",
        "colab_type": "text"
      },
      "source": [
        "## 3.0 Create model"
      ]
    },
    {
      "cell_type": "code",
      "metadata": {
        "id": "aE4Fu4--JE5e",
        "colab_type": "code",
        "colab": {
          "base_uri": "https://localhost:8080/",
          "height": 34
        },
        "outputId": "c8b99d90-08ea-42c4-9007-1f6066e42f33"
      },
      "source": [
        "print(f'number of classes: {len(label_cols)}')"
      ],
      "execution_count": 23,
      "outputs": [
        {
          "output_type": "stream",
          "text": [
            "number of classes: 35\n"
          ],
          "name": "stdout"
        }
      ]
    },
    {
      "cell_type": "code",
      "metadata": {
        "id": "jSqAfmJBH1YX",
        "colab_type": "code",
        "colab": {}
      },
      "source": [
        "from transformers import TFBertModel\n",
        "from tensorflow.keras.layers import Dense, Flatten\n",
        "\n",
        "# add a dense layer to BERT outputs with sigmoid activation function\n",
        "class BertClassifier(tf.keras.Model):    \n",
        "    def __init__(self, bert: TFBertModel, num_classes: int):\n",
        "        super().__init__()\n",
        "        self.bert = bert\n",
        "        self.classifier = Dense(num_classes, activation='sigmoid')\n",
        "        \n",
        "    @tf.function\n",
        "    def call(self, input_ids, attention_mask=None, token_type_ids=None, position_ids=None, head_mask=None):\n",
        "        outputs = self.bert(input_ids,\n",
        "                               attention_mask=attention_mask,\n",
        "                               token_type_ids=token_type_ids,\n",
        "                               position_ids=position_ids,\n",
        "                               head_mask=head_mask)\n",
        "        cls_output = outputs[1]\n",
        "        cls_output = self.classifier(cls_output)\n",
        "                \n",
        "        return cls_output\n",
        "\n",
        "model = BertClassifier(TFBertModel.from_pretrained(bert_model_name), len(label_cols))"
      ],
      "execution_count": 0,
      "outputs": []
    },
    {
      "cell_type": "code",
      "metadata": {
        "id": "AY6FUe1BJxKH",
        "colab_type": "code",
        "colab": {}
      },
      "source": [
        "import time\n",
        "from transformers import create_optimizer"
      ],
      "execution_count": 0,
      "outputs": []
    },
    {
      "cell_type": "code",
      "metadata": {
        "id": "hFlkqOP-J1fX",
        "colab_type": "code",
        "colab": {}
      },
      "source": [
        "steps_per_epoch = train_size // BATCH_SIZE\n",
        "validation_steps = validation_size // BATCH_SIZE"
      ],
      "execution_count": 0,
      "outputs": []
    },
    {
      "cell_type": "code",
      "metadata": {
        "id": "94z6jiBLD8Sy",
        "colab_type": "code",
        "colab": {
          "base_uri": "https://localhost:8080/",
          "height": 34
        },
        "outputId": "02a5ba03-deb1-4892-f619-0df6f93ba4e4"
      },
      "source": [
        "steps_per_epoch, validation_steps"
      ],
      "execution_count": 55,
      "outputs": [
        {
          "output_type": "execute_result",
          "data": {
            "text/plain": [
              "(737, 81)"
            ]
          },
          "metadata": {
            "tags": []
          },
          "execution_count": 55
        }
      ]
    },
    {
      "cell_type": "code",
      "metadata": {
        "id": "Dq99pu7yH1h2",
        "colab_type": "code",
        "colab": {}
      },
      "source": [
        "# loss: binary cross entropy with logits\n",
        "loss_object = tf.keras.losses.BinaryCrossentropy(from_logits=True)\n",
        "train_loss = tf.keras.metrics.Mean(name='train_loss')\n",
        "validation_loss = tf.keras.metrics.Mean(name='test_loss')"
      ],
      "execution_count": 0,
      "outputs": []
    },
    {
      "cell_type": "code",
      "metadata": {
        "id": "f3zqsgFTKFB6",
        "colab_type": "code",
        "colab": {}
      },
      "source": [
        "# Optimizer (with 1-cycle-policy)\n",
        "warmup_steps = steps_per_epoch // 3\n",
        "#total_steps = steps_per_epoch * NR_EPOCHS - warmup_steps\n",
        "total_steps = steps_per_epoch - warmup_steps\n",
        "optimizer = create_optimizer(init_lr=3e-5, num_train_steps=total_steps, num_warmup_steps=warmup_steps)"
      ],
      "execution_count": 0,
      "outputs": []
    },
    {
      "cell_type": "code",
      "metadata": {
        "id": "Wv8UWxhTCU1w",
        "colab_type": "code",
        "colab": {}
      },
      "source": [
        "# Metrics\n",
        "train_auc_metrics = [tf.keras.metrics.AUC() for i in range(len(label_cols))]\n",
        "validation_auc_metrics = [tf.keras.metrics.AUC() for i in range(len(label_cols))]"
      ],
      "execution_count": 0,
      "outputs": []
    },
    {
      "cell_type": "code",
      "metadata": {
        "id": "Y8g2qB3i7zOf",
        "colab_type": "code",
        "colab": {}
      },
      "source": [
        "@tf.function\n",
        "def train_step(model, token_ids, masks, labels):\n",
        "    labels = tf.dtypes.cast(labels, tf.float32)\n",
        "\n",
        "    with tf.GradientTape() as tape:\n",
        "        predictions = model(token_ids, attention_mask=masks)\n",
        "        loss = loss_object(labels, predictions)\n",
        "\n",
        "    gradients = tape.gradient(loss, model.trainable_variables)\n",
        "    optimizer.apply_gradients(zip(gradients, model.trainable_variables), 1.0)\n",
        "\n",
        "    train_loss(loss)\n",
        "\n",
        "    for i, auc in enumerate(train_auc_metrics):\n",
        "        auc.update_state(labels[:,i], predictions[:,i])"
      ],
      "execution_count": 0,
      "outputs": []
    },
    {
      "cell_type": "code",
      "metadata": {
        "id": "YKmkGsToBAFg",
        "colab_type": "code",
        "colab": {}
      },
      "source": [
        "@tf.function\n",
        "def validation_step(model, token_ids, masks, labels):\n",
        "    labels = tf.dtypes.cast(labels, tf.float32)\n",
        "\n",
        "    predictions = model(token_ids, attention_mask=masks, training=False)\n",
        "    v_loss = loss_object(labels, predictions)\n",
        "\n",
        "    validation_loss(v_loss)\n",
        "    for i, auc in enumerate(validation_auc_metrics):\n",
        "        auc.update_state(labels[:,i], predictions[:,i])"
      ],
      "execution_count": 0,
      "outputs": []
    },
    {
      "cell_type": "code",
      "metadata": {
        "id": "ud7RJmz_KfdL",
        "colab_type": "code",
        "colab": {}
      },
      "source": [
        "def train(model, train_dataset, val_dataset, train_steps_per_epoch, val_steps_per_epoch, epochs):\n",
        "    for epoch in range(epochs):\n",
        "        print(f\"EPOCH {epoch+1}/{epochs}\")\n",
        "\n",
        "        for i, (token_ids, masks, labels) in enumerate(tqdm(train_dataset, total=train_steps_per_epoch)):\n",
        "            train_step(model, token_ids, masks, labels)\n",
        "            if i % 200 == 0:\n",
        "                print(f'\\nTrain Step: {i}, Loss: {train_loss.result()}')\n",
        "                for i, label_name in enumerate(label_cols):\n",
        "                    print(f\"{label_name} ROC-AUC {train_auc_metrics[i].result()}\")\n",
        "                    train_auc_metrics[i].reset_states()\n",
        "        \n",
        "        for i, (token_ids, masks, labels) in enumerate(tqdm(val_dataset, total=val_steps_per_epoch)):\n",
        "            validation_step(model, token_ids, masks, labels)\n",
        "\n",
        "        print(f'\\nValidation Loss: {validation_loss.result()} \\n')\n",
        "\n",
        "        val_auc_avg = 0\n",
        "        for i, label_name in enumerate(label_cols):\n",
        "            print(f\"{label_name} ROC-AUC {validation_auc_metrics[i].result()}\")\n",
        "            val_auc_avg += validation_auc_metrics[i].result()\n",
        "            validation_auc_metrics[i].reset_states()\n",
        "        val_auc_avg = val_auc_avg / len(label_cols)\n",
        "        print(f'\\n Average AUC-ROC score on validation set: {val_auc_avg}')\n",
        "        print('\\n')"
      ],
      "execution_count": 0,
      "outputs": []
    },
    {
      "cell_type": "code",
      "metadata": {
        "id": "U_Zl2sTrKfky",
        "colab_type": "code",
        "colab": {
          "base_uri": "https://localhost:8080/",
          "height": 1000,
          "referenced_widgets": [
            "6f4c11251481446ab56de45e52bce866",
            "11d76dca549244869db7d88b17758e1a",
            "a212d3ed55da47ae9e0ce0cdd6746388",
            "985798226958447faff0edafe440fb3e",
            "1c502d7dddcb4e09b270d5b17ce1b87c",
            "9eaec8543446410d96a8c37835e1701e",
            "25fb8766156e41b89526a08ea7d8d145",
            "59f626aad74140278e05efe06eed15a2",
            "1e268e43dd7547c28014c7e18fdf84cf",
            "78f5260ca1b14699bff94883c6db8cf3",
            "3cc862f48ad94c3da84abd80dfedfd79",
            "84378a04d46c47e598be335a7401445d",
            "a3d6f2c7d6cf4b2c99aa20be136044ff",
            "4fb42f15b9d841929ef4e3a5f7d2a762",
            "f08da86b6ad24d028a6dcdbfaf1f1008",
            "c77e2de007de46d380318c3e03c1b911",
            "e95a29328b5d4e8495c3adf13150d409",
            "a22c1f1df9134ed3a3527fd46913a03d",
            "8f732c3724124b25ad9b08d0bedfa39b",
            "6ba85609bc3b4e898bd7003d21708499",
            "76f7318f89654be4962ef7f625183ffc",
            "9ebfa0fa1a6544349f7e41e2417a8d72",
            "99a5d6001dd94a86993740a7b2ed7460",
            "9b893fd8614a4f9292f98eb05108c5db"
          ]
        },
        "outputId": "ede17ccf-14dd-4866-b674-88d0ad239ec9"
      },
      "source": [
        "# make sure you run with GPU, takes ~20min for training per epoch\n",
        "with tf.device('/device:GPU:0'):\n",
        "  train(model, train_dataset, validation_dataset, train_steps_per_epoch=steps_per_epoch, val_steps_per_epoch=validation_steps, epochs=NR_EPOCHS)"
      ],
      "execution_count": 30,
      "outputs": [
        {
          "output_type": "stream",
          "text": [
            "EPOCH 1/2\n"
          ],
          "name": "stdout"
        },
        {
          "output_type": "display_data",
          "data": {
            "application/vnd.jupyter.widget-view+json": {
              "model_id": "6f4c11251481446ab56de45e52bce866",
              "version_minor": 0,
              "version_major": 2
            },
            "text/plain": [
              "HBox(children=(IntProgress(value=0, max=737), HTML(value='')))"
            ]
          },
          "metadata": {
            "tags": []
          }
        },
        {
          "output_type": "stream",
          "text": [
            "\n",
            "Train Step: 0, Loss: 0.9319369196891785\n",
            "related ROC-AUC 0.0962962955236435\n",
            "request ROC-AUC 0.2916666567325592\n",
            "offer ROC-AUC 0.0\n",
            "aid_related ROC-AUC 0.6215686202049255\n",
            "medical_help ROC-AUC 0.4583333134651184\n",
            "medical_products ROC-AUC 0.4464285671710968\n",
            "search_and_rescue ROC-AUC 0.6612903475761414\n",
            "security ROC-AUC 0.9193548560142517\n",
            "military ROC-AUC 0.6916666626930237\n",
            "water ROC-AUC 0.40740740299224854\n",
            "food ROC-AUC 0.5\n",
            "shelter ROC-AUC 0.227678582072258\n",
            "clothing ROC-AUC 0.0\n",
            "money ROC-AUC 0.0\n",
            "missing_people ROC-AUC 0.0\n",
            "refugees ROC-AUC 0.4749999940395355\n",
            "death ROC-AUC 0.629464328289032\n",
            "other_aid ROC-AUC 0.5259259343147278\n",
            "infrastructure_related ROC-AUC 0.24193549156188965\n",
            "transport ROC-AUC 0.0\n",
            "buildings ROC-AUC 0.19999998807907104\n",
            "electricity ROC-AUC 0.33870968222618103\n",
            "tools ROC-AUC 0.0\n",
            "hospitals ROC-AUC 0.0\n",
            "shops ROC-AUC 0.0\n",
            "aid_centers ROC-AUC 0.3870967924594879\n",
            "other_infrastructure ROC-AUC 0.0\n",
            "weather_related ROC-AUC 0.6822916865348816\n",
            "floods ROC-AUC 0.5862069129943848\n",
            "storm ROC-AUC 0.8064515590667725\n",
            "fire ROC-AUC 0.0\n",
            "earthquake ROC-AUC 0.2988505959510803\n",
            "cold ROC-AUC 0.25806450843811035\n",
            "other_weather ROC-AUC 0.0\n",
            "direct_report ROC-AUC 0.42270535230636597\n",
            "uncategorized ROC-AUC 0.2666666805744171\n",
            "\n",
            "Train Step: 200, Loss: 0.7879875302314758\n",
            "related ROC-AUC 0.5017390251159668\n",
            "request ROC-AUC 0.5094166994094849\n",
            "offer ROC-AUC 0.5588991045951843\n",
            "aid_related ROC-AUC 0.5057880878448486\n",
            "medical_help ROC-AUC 0.5207382440567017\n",
            "medical_products ROC-AUC 0.48508524894714355\n",
            "search_and_rescue ROC-AUC 0.5155310034751892\n",
            "security ROC-AUC 0.5036887526512146\n",
            "military ROC-AUC 0.5075827836990356\n",
            "water ROC-AUC 0.4970702826976776\n",
            "food ROC-AUC 0.49867475032806396\n",
            "shelter ROC-AUC 0.4810046851634979\n",
            "clothing ROC-AUC 0.48919835686683655\n",
            "money ROC-AUC 0.5034416317939758\n",
            "missing_people ROC-AUC 0.45606333017349243\n",
            "refugees ROC-AUC 0.4907960593700409\n",
            "death ROC-AUC 0.4690413177013397\n",
            "other_aid ROC-AUC 0.49960193037986755\n",
            "infrastructure_related ROC-AUC 0.5049559473991394\n",
            "transport ROC-AUC 0.509636402130127\n",
            "buildings ROC-AUC 0.48132890462875366\n",
            "electricity ROC-AUC 0.4977650046348572\n",
            "tools ROC-AUC 0.4971561133861542\n",
            "hospitals ROC-AUC 0.499644935131073\n",
            "shops ROC-AUC 0.5162112712860107\n",
            "aid_centers ROC-AUC 0.510674238204956\n",
            "other_infrastructure ROC-AUC 0.5131756067276001\n",
            "weather_related ROC-AUC 0.5244368314743042\n",
            "floods ROC-AUC 0.5075351595878601\n",
            "storm ROC-AUC 0.49911344051361084\n",
            "fire ROC-AUC 0.5213457942008972\n",
            "earthquake ROC-AUC 0.5178185105323792\n",
            "cold ROC-AUC 0.5286974310874939\n",
            "other_weather ROC-AUC 0.4756350517272949\n",
            "direct_report ROC-AUC 0.5187543630599976\n",
            "uncategorized ROC-AUC 0.488542377948761\n",
            "\n",
            "Train Step: 400, Loss: 0.7412256002426147\n",
            "related ROC-AUC 0.6380621790885925\n",
            "request ROC-AUC 0.5136047601699829\n",
            "offer ROC-AUC 0.514758825302124\n",
            "aid_related ROC-AUC 0.6001877784729004\n",
            "medical_help ROC-AUC 0.4910942018032074\n",
            "medical_products ROC-AUC 0.4968080520629883\n",
            "search_and_rescue ROC-AUC 0.5082336068153381\n",
            "security ROC-AUC 0.5741798281669617\n",
            "military ROC-AUC 0.5392734408378601\n",
            "water ROC-AUC 0.48401767015457153\n",
            "food ROC-AUC 0.4812282919883728\n",
            "shelter ROC-AUC 0.49206748604774475\n",
            "clothing ROC-AUC 0.5017746686935425\n",
            "money ROC-AUC 0.46263524889945984\n",
            "missing_people ROC-AUC 0.5247506499290466\n",
            "refugees ROC-AUC 0.42786380648612976\n",
            "death ROC-AUC 0.5600078105926514\n",
            "other_aid ROC-AUC 0.5248098969459534\n",
            "infrastructure_related ROC-AUC 0.5446504354476929\n",
            "transport ROC-AUC 0.4932797849178314\n",
            "buildings ROC-AUC 0.48143312335014343\n",
            "electricity ROC-AUC 0.49011796712875366\n",
            "tools ROC-AUC 0.48741498589515686\n",
            "hospitals ROC-AUC 0.48816871643066406\n",
            "shops ROC-AUC 0.46335747838020325\n",
            "aid_centers ROC-AUC 0.5353596806526184\n",
            "other_infrastructure ROC-AUC 0.5093628764152527\n",
            "weather_related ROC-AUC 0.5334997773170471\n",
            "floods ROC-AUC 0.5469338893890381\n",
            "storm ROC-AUC 0.505630373954773\n",
            "fire ROC-AUC 0.5144377946853638\n",
            "earthquake ROC-AUC 0.5216420888900757\n",
            "cold ROC-AUC 0.4431658089160919\n",
            "other_weather ROC-AUC 0.496453195810318\n",
            "direct_report ROC-AUC 0.5583163499832153\n",
            "uncategorized ROC-AUC 0.43802252411842346\n",
            "\n",
            "Train Step: 600, Loss: 0.7251383066177368\n",
            "related ROC-AUC 0.7596005201339722\n",
            "request ROC-AUC 0.5248388648033142\n",
            "offer ROC-AUC 0.4999215006828308\n",
            "aid_related ROC-AUC 0.692728579044342\n",
            "medical_help ROC-AUC 0.49991536140441895\n",
            "medical_products ROC-AUC 0.5580666065216064\n",
            "search_and_rescue ROC-AUC 0.49935659766197205\n",
            "security ROC-AUC 0.500556230545044\n",
            "military ROC-AUC 0.49991902709007263\n",
            "water ROC-AUC 0.5760996341705322\n",
            "food ROC-AUC 0.491861492395401\n",
            "shelter ROC-AUC 0.5001707077026367\n",
            "clothing ROC-AUC 0.49285486340522766\n",
            "money ROC-AUC 0.4999200999736786\n",
            "missing_people ROC-AUC 0.49984219670295715\n",
            "refugees ROC-AUC 0.4127718508243561\n",
            "death ROC-AUC 0.6002960801124573\n",
            "other_aid ROC-AUC 0.49991047382354736\n",
            "infrastructure_related ROC-AUC 0.5012877583503723\n",
            "transport ROC-AUC 0.499918133020401\n",
            "buildings ROC-AUC 0.31447556614875793\n",
            "electricity ROC-AUC 0.45634615421295166\n",
            "tools ROC-AUC 0.49976426362991333\n",
            "hospitals ROC-AUC 0.4999210238456726\n",
            "shops ROC-AUC 0.4999214708805084\n",
            "aid_centers ROC-AUC 0.49477019906044006\n",
            "other_infrastructure ROC-AUC 0.5576602220535278\n",
            "weather_related ROC-AUC 0.5448309183120728\n",
            "floods ROC-AUC 0.4999152421951294\n",
            "storm ROC-AUC 0.515531063079834\n",
            "fire ROC-AUC 0.49992090463638306\n",
            "earthquake ROC-AUC 0.49982741475105286\n",
            "cold ROC-AUC 0.4439726769924164\n",
            "other_weather ROC-AUC 0.4975173771381378\n",
            "direct_report ROC-AUC 0.5726157426834106\n",
            "uncategorized ROC-AUC 0.4654332399368286\n",
            "\n",
            "Train Step: 800, Loss: 0.7170301675796509\n",
            "related ROC-AUC 0.7647237777709961\n",
            "request ROC-AUC 0.5354259610176086\n",
            "offer ROC-AUC 0.5\n",
            "aid_related ROC-AUC 0.6789034008979797\n",
            "medical_help ROC-AUC 0.5\n",
            "medical_products ROC-AUC 0.5720500946044922\n",
            "search_and_rescue ROC-AUC 0.5\n",
            "security ROC-AUC 0.49634554982185364\n",
            "military ROC-AUC 0.5\n",
            "water ROC-AUC 0.5815210938453674\n",
            "food ROC-AUC 0.4954225420951843\n",
            "shelter ROC-AUC 0.5\n",
            "clothing ROC-AUC 0.49705836176872253\n",
            "money ROC-AUC 0.5\n",
            "missing_people ROC-AUC 0.5\n",
            "refugees ROC-AUC 0.42878395318984985\n",
            "death ROC-AUC 0.5859105587005615\n",
            "other_aid ROC-AUC 0.5\n",
            "infrastructure_related ROC-AUC 0.49966537952423096\n",
            "transport ROC-AUC 0.5\n",
            "buildings ROC-AUC 0.3309381306171417\n",
            "electricity ROC-AUC 0.41433262825012207\n",
            "tools ROC-AUC 0.4998427927494049\n",
            "hospitals ROC-AUC 0.5\n",
            "shops ROC-AUC 0.5\n",
            "aid_centers ROC-AUC 0.4977872669696808\n",
            "other_infrastructure ROC-AUC 0.5393064618110657\n",
            "weather_related ROC-AUC 0.5536313652992249\n",
            "floods ROC-AUC 0.5\n",
            "storm ROC-AUC 0.5078188180923462\n",
            "fire ROC-AUC 0.5\n",
            "earthquake ROC-AUC 0.5\n",
            "cold ROC-AUC 0.4462819993495941\n",
            "other_weather ROC-AUC 0.49934253096580505\n",
            "direct_report ROC-AUC 0.5591226816177368\n",
            "uncategorized ROC-AUC 0.49050140380859375\n",
            "\n",
            "Train Step: 1000, Loss: 0.7121915817260742\n",
            "related ROC-AUC 0.7613809108734131\n",
            "request ROC-AUC 0.5322631597518921\n",
            "offer ROC-AUC 0.5\n",
            "aid_related ROC-AUC 0.6897234320640564\n",
            "medical_help ROC-AUC 0.5\n",
            "medical_products ROC-AUC 0.5548593401908875\n",
            "search_and_rescue ROC-AUC 0.5\n",
            "security ROC-AUC 0.5012736916542053\n",
            "military ROC-AUC 0.5\n",
            "water ROC-AUC 0.5962643623352051\n",
            "food ROC-AUC 0.496920645236969\n",
            "shelter ROC-AUC 0.5\n",
            "clothing ROC-AUC 0.495318204164505\n",
            "money ROC-AUC 0.5\n",
            "missing_people ROC-AUC 0.5\n",
            "refugees ROC-AUC 0.4249279797077179\n",
            "death ROC-AUC 0.5533931851387024\n",
            "other_aid ROC-AUC 0.5\n",
            "infrastructure_related ROC-AUC 0.4999164044857025\n",
            "transport ROC-AUC 0.5\n",
            "buildings ROC-AUC 0.32717379927635193\n",
            "electricity ROC-AUC 0.43345215916633606\n",
            "tools ROC-AUC 0.4998427629470825\n",
            "hospitals ROC-AUC 0.5\n",
            "shops ROC-AUC 0.5\n",
            "aid_centers ROC-AUC 0.4969223439693451\n",
            "other_infrastructure ROC-AUC 0.5697799921035767\n",
            "weather_related ROC-AUC 0.5515793561935425\n",
            "floods ROC-AUC 0.5\n",
            "storm ROC-AUC 0.5156431794166565\n",
            "fire ROC-AUC 0.5\n",
            "earthquake ROC-AUC 0.5\n",
            "cold ROC-AUC 0.4551750421524048\n",
            "other_weather ROC-AUC 0.4994243383407593\n",
            "direct_report ROC-AUC 0.5631678700447083\n",
            "uncategorized ROC-AUC 0.4891584515571594\n",
            "\n",
            "Train Step: 1200, Loss: 0.7089546918869019\n",
            "related ROC-AUC 0.7728049755096436\n",
            "request ROC-AUC 0.5294605493545532\n",
            "offer ROC-AUC 0.5\n",
            "aid_related ROC-AUC 0.6823962330818176\n",
            "medical_help ROC-AUC 0.5\n",
            "medical_products ROC-AUC 0.5626156330108643\n",
            "search_and_rescue ROC-AUC 0.4998398721218109\n",
            "security ROC-AUC 0.500874400138855\n",
            "military ROC-AUC 0.5\n",
            "water ROC-AUC 0.6001075506210327\n",
            "food ROC-AUC 0.49601981043815613\n",
            "shelter ROC-AUC 0.5\n",
            "clothing ROC-AUC 0.4966740608215332\n",
            "money ROC-AUC 0.5\n",
            "missing_people ROC-AUC 0.5\n",
            "refugees ROC-AUC 0.4216277301311493\n",
            "death ROC-AUC 0.5737373232841492\n",
            "other_aid ROC-AUC 0.5\n",
            "infrastructure_related ROC-AUC 0.49991631507873535\n",
            "transport ROC-AUC 0.5\n",
            "buildings ROC-AUC 0.3137030303478241\n",
            "electricity ROC-AUC 0.41623884439468384\n",
            "tools ROC-AUC 0.49992144107818604\n",
            "hospitals ROC-AUC 0.5\n",
            "shops ROC-AUC 0.5\n",
            "aid_centers ROC-AUC 0.49770715832710266\n",
            "other_infrastructure ROC-AUC 0.5672436356544495\n",
            "weather_related ROC-AUC 0.554545521736145\n",
            "floods ROC-AUC 0.5\n",
            "storm ROC-AUC 0.4986533522605896\n",
            "fire ROC-AUC 0.5\n",
            "earthquake ROC-AUC 0.5\n",
            "cold ROC-AUC 0.45853883028030396\n",
            "other_weather ROC-AUC 0.49925658106803894\n",
            "direct_report ROC-AUC 0.5540978908538818\n",
            "uncategorized ROC-AUC 0.48928526043891907\n",
            "\n",
            "Train Step: 1400, Loss: 0.7066529393196106\n",
            "related ROC-AUC 0.7577069997787476\n",
            "request ROC-AUC 0.5369917154312134\n",
            "offer ROC-AUC 0.4999215602874756\n",
            "aid_related ROC-AUC 0.6872268319129944\n",
            "medical_help ROC-AUC 0.49974480271339417\n",
            "medical_products ROC-AUC 0.5614214539527893\n",
            "search_and_rescue ROC-AUC 0.4999196231365204\n",
            "security ROC-AUC 0.5010345578193665\n",
            "military ROC-AUC 0.49983835220336914\n",
            "water ROC-AUC 0.587105393409729\n",
            "food ROC-AUC 0.496078759431839\n",
            "shelter ROC-AUC 0.5000855922698975\n",
            "clothing ROC-AUC 0.4967449903488159\n",
            "money ROC-AUC 0.4999198913574219\n",
            "missing_people ROC-AUC 0.4996049404144287\n",
            "refugees ROC-AUC 0.4250619113445282\n",
            "death ROC-AUC 0.5753366947174072\n",
            "other_aid ROC-AUC 0.4998197555541992\n",
            "infrastructure_related ROC-AUC 0.4993301033973694\n",
            "transport ROC-AUC 0.4999181926250458\n",
            "buildings ROC-AUC 0.3433281481266022\n",
            "electricity ROC-AUC 0.41994309425354004\n",
            "tools ROC-AUC 0.4998427629470825\n",
            "hospitals ROC-AUC 0.49984216690063477\n",
            "shops ROC-AUC 0.49992161989212036\n",
            "aid_centers ROC-AUC 0.49651622772216797\n",
            "other_infrastructure ROC-AUC 0.5432564616203308\n",
            "weather_related ROC-AUC 0.5540361404418945\n",
            "floods ROC-AUC 0.49991485476493835\n",
            "storm ROC-AUC 0.5112847685813904\n",
            "fire ROC-AUC 0.4999210238456726\n",
            "earthquake ROC-AUC 0.49982789158821106\n",
            "cold ROC-AUC 0.45238766074180603\n",
            "other_weather ROC-AUC 0.4986811876296997\n",
            "direct_report ROC-AUC 0.5554786324501038\n",
            "uncategorized ROC-AUC 0.4900406301021576\n",
            "\n"
          ],
          "name": "stdout"
        },
        {
          "output_type": "display_data",
          "data": {
            "application/vnd.jupyter.widget-view+json": {
              "model_id": "1e268e43dd7547c28014c7e18fdf84cf",
              "version_minor": 0,
              "version_major": 2
            },
            "text/plain": [
              "HBox(children=(IntProgress(value=0, max=81), HTML(value='')))"
            ]
          },
          "metadata": {
            "tags": []
          }
        },
        {
          "output_type": "stream",
          "text": [
            "\n",
            "\n",
            "Validation Loss: 0.6929114460945129 \n",
            "\n",
            "related ROC-AUC 0.7623892426490784\n",
            "request ROC-AUC 0.5374180674552917\n",
            "offer ROC-AUC 0.5\n",
            "aid_related ROC-AUC 0.6925266981124878\n",
            "medical_help ROC-AUC 0.4997929632663727\n",
            "medical_products ROC-AUC 0.5275626182556152\n",
            "search_and_rescue ROC-AUC 0.4998040795326233\n",
            "security ROC-AUC 0.5017509460449219\n",
            "military ROC-AUC 0.4998031556606293\n",
            "water ROC-AUC 0.6039391756057739\n",
            "food ROC-AUC 0.4957500994205475\n",
            "shelter ROC-AUC 0.4997904300689697\n",
            "clothing ROC-AUC 0.49458831548690796\n",
            "money ROC-AUC 0.5\n",
            "missing_people ROC-AUC 0.4998064339160919\n",
            "refugees ROC-AUC 0.43944838643074036\n",
            "death ROC-AUC 0.5662482976913452\n",
            "other_aid ROC-AUC 0.49978020787239075\n",
            "infrastructure_related ROC-AUC 0.49959349632263184\n",
            "transport ROC-AUC 0.5\n",
            "buildings ROC-AUC 0.3246167302131653\n",
            "electricity ROC-AUC 0.3916708827018738\n",
            "tools ROC-AUC 0.4996161162853241\n",
            "hospitals ROC-AUC 0.4998074769973755\n",
            "shops ROC-AUC 0.5\n",
            "aid_centers ROC-AUC 0.4972972869873047\n",
            "other_infrastructure ROC-AUC 0.5375728011131287\n",
            "weather_related ROC-AUC 0.5511844158172607\n",
            "floods ROC-AUC 0.5\n",
            "storm ROC-AUC 0.4725051522254944\n",
            "fire ROC-AUC 0.5\n",
            "earthquake ROC-AUC 0.5\n",
            "cold ROC-AUC 0.4560611844062805\n",
            "other_weather ROC-AUC 0.49879226088523865\n",
            "direct_report ROC-AUC 0.5550932884216309\n",
            "uncategorized ROC-AUC 0.4905667006969452\n",
            "\n",
            " Average AUC-ROC score on validation set: 0.5109660625457764\n",
            "\n",
            "\n",
            "EPOCH 2/2\n"
          ],
          "name": "stdout"
        },
        {
          "output_type": "display_data",
          "data": {
            "application/vnd.jupyter.widget-view+json": {
              "model_id": "e95a29328b5d4e8495c3adf13150d409",
              "version_minor": 0,
              "version_major": 2
            },
            "text/plain": [
              "HBox(children=(IntProgress(value=0, max=737), HTML(value='')))"
            ]
          },
          "metadata": {
            "tags": []
          }
        },
        {
          "output_type": "stream",
          "text": [
            "\n",
            "Train Step: 0, Loss: 0.7059513926506042\n",
            "related ROC-AUC 0.7847247123718262\n",
            "request ROC-AUC 0.5383827090263367\n",
            "offer ROC-AUC 0.49978965520858765\n",
            "aid_related ROC-AUC 0.7004571557044983\n",
            "medical_help ROC-AUC 0.4995427429676056\n",
            "medical_products ROC-AUC 0.5315104722976685\n",
            "search_and_rescue ROC-AUC 0.4997842013835907\n",
            "security ROC-AUC 0.5002124905586243\n",
            "military ROC-AUC 0.499566912651062\n",
            "water ROC-AUC 0.586609959602356\n",
            "food ROC-AUC 0.4971415102481842\n",
            "shelter ROC-AUC 0.5002316236495972\n",
            "clothing ROC-AUC 0.4968017041683197\n",
            "money ROC-AUC 0.4997852146625519\n",
            "missing_people ROC-AUC 0.4995768070220947\n",
            "refugees ROC-AUC 0.42647844552993774\n",
            "death ROC-AUC 0.5798134207725525\n",
            "other_aid ROC-AUC 0.4995131492614746\n",
            "infrastructure_related ROC-AUC 0.49933600425720215\n",
            "transport ROC-AUC 0.4997801184654236\n",
            "buildings ROC-AUC 0.3071994185447693\n",
            "electricity ROC-AUC 0.47426849603652954\n",
            "tools ROC-AUC 0.499789297580719\n",
            "hospitals ROC-AUC 0.49957752227783203\n",
            "shops ROC-AUC 0.49978938698768616\n",
            "aid_centers ROC-AUC 0.49704018235206604\n",
            "other_infrastructure ROC-AUC 0.612421989440918\n",
            "weather_related ROC-AUC 0.5506144165992737\n",
            "floods ROC-AUC 0.49977031350135803\n",
            "storm ROC-AUC 0.49309077858924866\n",
            "fire ROC-AUC 0.4997881352901459\n",
            "earthquake ROC-AUC 0.499531626701355\n",
            "cold ROC-AUC 0.4610142707824707\n",
            "other_weather ROC-AUC 0.49889183044433594\n",
            "direct_report ROC-AUC 0.5540369749069214\n",
            "uncategorized ROC-AUC 0.48866546154022217\n",
            "\n",
            "Train Step: 200, Loss: 0.7043851017951965\n",
            "related ROC-AUC 0.758242666721344\n",
            "request ROC-AUC 0.5336849093437195\n",
            "offer ROC-AUC 0.5\n",
            "aid_related ROC-AUC 0.6862709522247314\n",
            "medical_help ROC-AUC 0.4999149441719055\n",
            "medical_products ROC-AUC 0.5638271570205688\n",
            "search_and_rescue ROC-AUC 0.5\n",
            "security ROC-AUC 0.5007139444351196\n",
            "military ROC-AUC 0.5\n",
            "water ROC-AUC 0.6008895635604858\n",
            "food ROC-AUC 0.4970847964286804\n",
            "shelter ROC-AUC 0.5000854730606079\n",
            "clothing ROC-AUC 0.49665871262550354\n",
            "money ROC-AUC 0.5\n",
            "missing_people ROC-AUC 0.4999210238456726\n",
            "refugees ROC-AUC 0.43093758821487427\n",
            "death ROC-AUC 0.5719155073165894\n",
            "other_aid ROC-AUC 0.5\n",
            "infrastructure_related ROC-AUC 0.49974915385246277\n",
            "transport ROC-AUC 0.5\n",
            "buildings ROC-AUC 0.32700884342193604\n",
            "electricity ROC-AUC 0.4411521553993225\n",
            "tools ROC-AUC 0.5\n",
            "hospitals ROC-AUC 0.5\n",
            "shops ROC-AUC 0.5\n",
            "aid_centers ROC-AUC 0.49747034907341003\n",
            "other_infrastructure ROC-AUC 0.5580065250396729\n",
            "weather_related ROC-AUC 0.5519906282424927\n",
            "floods ROC-AUC 0.5\n",
            "storm ROC-AUC 0.5076431632041931\n",
            "fire ROC-AUC 0.5\n",
            "earthquake ROC-AUC 0.5\n",
            "cold ROC-AUC 0.45687171816825867\n",
            "other_weather ROC-AUC 0.4994218647480011\n",
            "direct_report ROC-AUC 0.5523498058319092\n",
            "uncategorized ROC-AUC 0.4911401867866516\n"
          ],
          "name": "stdout"
        },
        {
          "output_type": "error",
          "ename": "KeyboardInterrupt",
          "evalue": "ignored",
          "traceback": [
            "\u001b[0;31m---------------------------------------------------------------------------\u001b[0m",
            "\u001b[0;31mKeyboardInterrupt\u001b[0m                         Traceback (most recent call last)",
            "\u001b[0;32m<ipython-input-30-4295dde67dd3>\u001b[0m in \u001b[0;36m<module>\u001b[0;34m()\u001b[0m\n\u001b[1;32m      1\u001b[0m \u001b[0;32mwith\u001b[0m \u001b[0mtf\u001b[0m\u001b[0;34m.\u001b[0m\u001b[0mdevice\u001b[0m\u001b[0;34m(\u001b[0m\u001b[0;34m'/device:GPU:0'\u001b[0m\u001b[0;34m)\u001b[0m\u001b[0;34m:\u001b[0m\u001b[0;34m\u001b[0m\u001b[0;34m\u001b[0m\u001b[0m\n\u001b[0;32m----> 2\u001b[0;31m   \u001b[0mtrain\u001b[0m\u001b[0;34m(\u001b[0m\u001b[0mmodel\u001b[0m\u001b[0;34m,\u001b[0m \u001b[0mtrain_dataset\u001b[0m\u001b[0;34m,\u001b[0m \u001b[0mvalidation_dataset\u001b[0m\u001b[0;34m,\u001b[0m \u001b[0mtrain_steps_per_epoch\u001b[0m\u001b[0;34m=\u001b[0m\u001b[0msteps_per_epoch\u001b[0m\u001b[0;34m,\u001b[0m \u001b[0mval_steps_per_epoch\u001b[0m\u001b[0;34m=\u001b[0m\u001b[0mvalidation_steps\u001b[0m\u001b[0;34m,\u001b[0m \u001b[0mepochs\u001b[0m\u001b[0;34m=\u001b[0m\u001b[0mNR_EPOCHS\u001b[0m\u001b[0;34m)\u001b[0m\u001b[0;34m\u001b[0m\u001b[0;34m\u001b[0m\u001b[0m\n\u001b[0m",
            "\u001b[0;32m<ipython-input-29-f7d3f9f244d6>\u001b[0m in \u001b[0;36mtrain\u001b[0;34m(model, train_dataset, val_dataset, train_steps_per_epoch, val_steps_per_epoch, epochs)\u001b[0m\n\u001b[1;32m      4\u001b[0m \u001b[0;34m\u001b[0m\u001b[0m\n\u001b[1;32m      5\u001b[0m         \u001b[0;32mfor\u001b[0m \u001b[0mi\u001b[0m\u001b[0;34m,\u001b[0m \u001b[0;34m(\u001b[0m\u001b[0mtoken_ids\u001b[0m\u001b[0;34m,\u001b[0m \u001b[0mmasks\u001b[0m\u001b[0;34m,\u001b[0m \u001b[0mlabels\u001b[0m\u001b[0;34m)\u001b[0m \u001b[0;32min\u001b[0m \u001b[0menumerate\u001b[0m\u001b[0;34m(\u001b[0m\u001b[0mtqdm\u001b[0m\u001b[0;34m(\u001b[0m\u001b[0mtrain_dataset\u001b[0m\u001b[0;34m,\u001b[0m \u001b[0mtotal\u001b[0m\u001b[0;34m=\u001b[0m\u001b[0mtrain_steps_per_epoch\u001b[0m\u001b[0;34m)\u001b[0m\u001b[0;34m)\u001b[0m\u001b[0;34m:\u001b[0m\u001b[0;34m\u001b[0m\u001b[0;34m\u001b[0m\u001b[0m\n\u001b[0;32m----> 6\u001b[0;31m             \u001b[0mtrain_step\u001b[0m\u001b[0;34m(\u001b[0m\u001b[0mmodel\u001b[0m\u001b[0;34m,\u001b[0m \u001b[0mtoken_ids\u001b[0m\u001b[0;34m,\u001b[0m \u001b[0mmasks\u001b[0m\u001b[0;34m,\u001b[0m \u001b[0mlabels\u001b[0m\u001b[0;34m)\u001b[0m\u001b[0;34m\u001b[0m\u001b[0;34m\u001b[0m\u001b[0m\n\u001b[0m\u001b[1;32m      7\u001b[0m             \u001b[0;32mif\u001b[0m \u001b[0mi\u001b[0m \u001b[0;34m%\u001b[0m \u001b[0;36m200\u001b[0m \u001b[0;34m==\u001b[0m \u001b[0;36m0\u001b[0m\u001b[0;34m:\u001b[0m\u001b[0;34m\u001b[0m\u001b[0;34m\u001b[0m\u001b[0m\n\u001b[1;32m      8\u001b[0m                 \u001b[0mprint\u001b[0m\u001b[0;34m(\u001b[0m\u001b[0;34mf'\\nTrain Step: {i}, Loss: {train_loss.result()}'\u001b[0m\u001b[0;34m)\u001b[0m\u001b[0;34m\u001b[0m\u001b[0;34m\u001b[0m\u001b[0m\n",
            "\u001b[0;32m/usr/local/lib/python3.6/dist-packages/tensorflow/python/eager/def_function.py\u001b[0m in \u001b[0;36m__call__\u001b[0;34m(self, *args, **kwds)\u001b[0m\n\u001b[1;32m    578\u001b[0m         \u001b[0mxla_context\u001b[0m\u001b[0;34m.\u001b[0m\u001b[0mExit\u001b[0m\u001b[0;34m(\u001b[0m\u001b[0;34m)\u001b[0m\u001b[0;34m\u001b[0m\u001b[0;34m\u001b[0m\u001b[0m\n\u001b[1;32m    579\u001b[0m     \u001b[0;32melse\u001b[0m\u001b[0;34m:\u001b[0m\u001b[0;34m\u001b[0m\u001b[0;34m\u001b[0m\u001b[0m\n\u001b[0;32m--> 580\u001b[0;31m       \u001b[0mresult\u001b[0m \u001b[0;34m=\u001b[0m \u001b[0mself\u001b[0m\u001b[0;34m.\u001b[0m\u001b[0m_call\u001b[0m\u001b[0;34m(\u001b[0m\u001b[0;34m*\u001b[0m\u001b[0margs\u001b[0m\u001b[0;34m,\u001b[0m \u001b[0;34m**\u001b[0m\u001b[0mkwds\u001b[0m\u001b[0;34m)\u001b[0m\u001b[0;34m\u001b[0m\u001b[0;34m\u001b[0m\u001b[0m\n\u001b[0m\u001b[1;32m    581\u001b[0m \u001b[0;34m\u001b[0m\u001b[0m\n\u001b[1;32m    582\u001b[0m     \u001b[0;32mif\u001b[0m \u001b[0mtracing_count\u001b[0m \u001b[0;34m==\u001b[0m \u001b[0mself\u001b[0m\u001b[0;34m.\u001b[0m\u001b[0m_get_tracing_count\u001b[0m\u001b[0;34m(\u001b[0m\u001b[0;34m)\u001b[0m\u001b[0;34m:\u001b[0m\u001b[0;34m\u001b[0m\u001b[0;34m\u001b[0m\u001b[0m\n",
            "\u001b[0;32m/usr/local/lib/python3.6/dist-packages/tensorflow/python/eager/def_function.py\u001b[0m in \u001b[0;36m_call\u001b[0;34m(self, *args, **kwds)\u001b[0m\n\u001b[1;32m    609\u001b[0m       \u001b[0;31m# In this case we have created variables on the first call, so we run the\u001b[0m\u001b[0;34m\u001b[0m\u001b[0;34m\u001b[0m\u001b[0;34m\u001b[0m\u001b[0m\n\u001b[1;32m    610\u001b[0m       \u001b[0;31m# defunned version which is guaranteed to never create variables.\u001b[0m\u001b[0;34m\u001b[0m\u001b[0;34m\u001b[0m\u001b[0;34m\u001b[0m\u001b[0m\n\u001b[0;32m--> 611\u001b[0;31m       \u001b[0;32mreturn\u001b[0m \u001b[0mself\u001b[0m\u001b[0;34m.\u001b[0m\u001b[0m_stateless_fn\u001b[0m\u001b[0;34m(\u001b[0m\u001b[0;34m*\u001b[0m\u001b[0margs\u001b[0m\u001b[0;34m,\u001b[0m \u001b[0;34m**\u001b[0m\u001b[0mkwds\u001b[0m\u001b[0;34m)\u001b[0m  \u001b[0;31m# pylint: disable=not-callable\u001b[0m\u001b[0;34m\u001b[0m\u001b[0;34m\u001b[0m\u001b[0m\n\u001b[0m\u001b[1;32m    612\u001b[0m     \u001b[0;32melif\u001b[0m \u001b[0mself\u001b[0m\u001b[0;34m.\u001b[0m\u001b[0m_stateful_fn\u001b[0m \u001b[0;32mis\u001b[0m \u001b[0;32mnot\u001b[0m \u001b[0;32mNone\u001b[0m\u001b[0;34m:\u001b[0m\u001b[0;34m\u001b[0m\u001b[0;34m\u001b[0m\u001b[0m\n\u001b[1;32m    613\u001b[0m       \u001b[0;31m# Release the lock early so that multiple threads can perform the call\u001b[0m\u001b[0;34m\u001b[0m\u001b[0;34m\u001b[0m\u001b[0;34m\u001b[0m\u001b[0m\n",
            "\u001b[0;32m/usr/local/lib/python3.6/dist-packages/tensorflow/python/eager/function.py\u001b[0m in \u001b[0;36m__call__\u001b[0;34m(self, *args, **kwargs)\u001b[0m\n\u001b[1;32m   2418\u001b[0m     \u001b[0;32mwith\u001b[0m \u001b[0mself\u001b[0m\u001b[0;34m.\u001b[0m\u001b[0m_lock\u001b[0m\u001b[0;34m:\u001b[0m\u001b[0;34m\u001b[0m\u001b[0;34m\u001b[0m\u001b[0m\n\u001b[1;32m   2419\u001b[0m       \u001b[0mgraph_function\u001b[0m\u001b[0;34m,\u001b[0m \u001b[0margs\u001b[0m\u001b[0;34m,\u001b[0m \u001b[0mkwargs\u001b[0m \u001b[0;34m=\u001b[0m \u001b[0mself\u001b[0m\u001b[0;34m.\u001b[0m\u001b[0m_maybe_define_function\u001b[0m\u001b[0;34m(\u001b[0m\u001b[0margs\u001b[0m\u001b[0;34m,\u001b[0m \u001b[0mkwargs\u001b[0m\u001b[0;34m)\u001b[0m\u001b[0;34m\u001b[0m\u001b[0;34m\u001b[0m\u001b[0m\n\u001b[0;32m-> 2420\u001b[0;31m     \u001b[0;32mreturn\u001b[0m \u001b[0mgraph_function\u001b[0m\u001b[0;34m.\u001b[0m\u001b[0m_filtered_call\u001b[0m\u001b[0;34m(\u001b[0m\u001b[0margs\u001b[0m\u001b[0;34m,\u001b[0m \u001b[0mkwargs\u001b[0m\u001b[0;34m)\u001b[0m  \u001b[0;31m# pylint: disable=protected-access\u001b[0m\u001b[0;34m\u001b[0m\u001b[0;34m\u001b[0m\u001b[0m\n\u001b[0m\u001b[1;32m   2421\u001b[0m \u001b[0;34m\u001b[0m\u001b[0m\n\u001b[1;32m   2422\u001b[0m   \u001b[0;34m@\u001b[0m\u001b[0mproperty\u001b[0m\u001b[0;34m\u001b[0m\u001b[0;34m\u001b[0m\u001b[0m\n",
            "\u001b[0;32m/usr/local/lib/python3.6/dist-packages/tensorflow/python/eager/function.py\u001b[0m in \u001b[0;36m_filtered_call\u001b[0;34m(self, args, kwargs)\u001b[0m\n\u001b[1;32m   1663\u001b[0m          if isinstance(t, (ops.Tensor,\n\u001b[1;32m   1664\u001b[0m                            resource_variable_ops.BaseResourceVariable))),\n\u001b[0;32m-> 1665\u001b[0;31m         self.captured_inputs)\n\u001b[0m\u001b[1;32m   1666\u001b[0m \u001b[0;34m\u001b[0m\u001b[0m\n\u001b[1;32m   1667\u001b[0m   \u001b[0;32mdef\u001b[0m \u001b[0m_call_flat\u001b[0m\u001b[0;34m(\u001b[0m\u001b[0mself\u001b[0m\u001b[0;34m,\u001b[0m \u001b[0margs\u001b[0m\u001b[0;34m,\u001b[0m \u001b[0mcaptured_inputs\u001b[0m\u001b[0;34m,\u001b[0m \u001b[0mcancellation_manager\u001b[0m\u001b[0;34m=\u001b[0m\u001b[0;32mNone\u001b[0m\u001b[0;34m)\u001b[0m\u001b[0;34m:\u001b[0m\u001b[0;34m\u001b[0m\u001b[0;34m\u001b[0m\u001b[0m\n",
            "\u001b[0;32m/usr/local/lib/python3.6/dist-packages/tensorflow/python/eager/function.py\u001b[0m in \u001b[0;36m_call_flat\u001b[0;34m(self, args, captured_inputs, cancellation_manager)\u001b[0m\n\u001b[1;32m   1744\u001b[0m       \u001b[0;31m# No tape is watching; skip to running the function.\u001b[0m\u001b[0;34m\u001b[0m\u001b[0;34m\u001b[0m\u001b[0;34m\u001b[0m\u001b[0m\n\u001b[1;32m   1745\u001b[0m       return self._build_call_outputs(self._inference_function.call(\n\u001b[0;32m-> 1746\u001b[0;31m           ctx, args, cancellation_manager=cancellation_manager))\n\u001b[0m\u001b[1;32m   1747\u001b[0m     forward_backward = self._select_forward_and_backward_functions(\n\u001b[1;32m   1748\u001b[0m         \u001b[0margs\u001b[0m\u001b[0;34m,\u001b[0m\u001b[0;34m\u001b[0m\u001b[0;34m\u001b[0m\u001b[0m\n",
            "\u001b[0;32m/usr/local/lib/python3.6/dist-packages/tensorflow/python/eager/function.py\u001b[0m in \u001b[0;36mcall\u001b[0;34m(self, ctx, args, cancellation_manager)\u001b[0m\n\u001b[1;32m    596\u001b[0m               \u001b[0minputs\u001b[0m\u001b[0;34m=\u001b[0m\u001b[0margs\u001b[0m\u001b[0;34m,\u001b[0m\u001b[0;34m\u001b[0m\u001b[0;34m\u001b[0m\u001b[0m\n\u001b[1;32m    597\u001b[0m               \u001b[0mattrs\u001b[0m\u001b[0;34m=\u001b[0m\u001b[0mattrs\u001b[0m\u001b[0;34m,\u001b[0m\u001b[0;34m\u001b[0m\u001b[0;34m\u001b[0m\u001b[0m\n\u001b[0;32m--> 598\u001b[0;31m               ctx=ctx)\n\u001b[0m\u001b[1;32m    599\u001b[0m         \u001b[0;32melse\u001b[0m\u001b[0;34m:\u001b[0m\u001b[0;34m\u001b[0m\u001b[0;34m\u001b[0m\u001b[0m\n\u001b[1;32m    600\u001b[0m           outputs = execute.execute_with_cancellation(\n",
            "\u001b[0;32m/usr/local/lib/python3.6/dist-packages/tensorflow/python/eager/execute.py\u001b[0m in \u001b[0;36mquick_execute\u001b[0;34m(op_name, num_outputs, inputs, attrs, ctx, name)\u001b[0m\n\u001b[1;32m     58\u001b[0m     \u001b[0mctx\u001b[0m\u001b[0;34m.\u001b[0m\u001b[0mensure_initialized\u001b[0m\u001b[0;34m(\u001b[0m\u001b[0;34m)\u001b[0m\u001b[0;34m\u001b[0m\u001b[0;34m\u001b[0m\u001b[0m\n\u001b[1;32m     59\u001b[0m     tensors = pywrap_tfe.TFE_Py_Execute(ctx._handle, device_name, op_name,\n\u001b[0;32m---> 60\u001b[0;31m                                         inputs, attrs, num_outputs)\n\u001b[0m\u001b[1;32m     61\u001b[0m   \u001b[0;32mexcept\u001b[0m \u001b[0mcore\u001b[0m\u001b[0;34m.\u001b[0m\u001b[0m_NotOkStatusException\u001b[0m \u001b[0;32mas\u001b[0m \u001b[0me\u001b[0m\u001b[0;34m:\u001b[0m\u001b[0;34m\u001b[0m\u001b[0;34m\u001b[0m\u001b[0m\n\u001b[1;32m     62\u001b[0m     \u001b[0;32mif\u001b[0m \u001b[0mname\u001b[0m \u001b[0;32mis\u001b[0m \u001b[0;32mnot\u001b[0m \u001b[0;32mNone\u001b[0m\u001b[0;34m:\u001b[0m\u001b[0;34m\u001b[0m\u001b[0;34m\u001b[0m\u001b[0m\n",
            "\u001b[0;31mKeyboardInterrupt\u001b[0m: "
          ]
        }
      ]
    },
    {
      "cell_type": "code",
      "metadata": {
        "id": "X17w8OO3HQEO",
        "colab_type": "code",
        "colab": {}
      },
      "source": [
        "model"
      ],
      "execution_count": 0,
      "outputs": []
    },
    {
      "cell_type": "code",
      "metadata": {
        "id": "RLh8aoAnMgSz",
        "colab_type": "code",
        "colab": {}
      },
      "source": [
        "MODEL_PATH = './trained_model.pth'\n",
        "torch.save(model.state_dict(), PATH)"
      ],
      "execution_count": 0,
      "outputs": []
    },
    {
      "cell_type": "code",
      "metadata": {
        "id": "rWE88uxIMgK8",
        "colab_type": "code",
        "colab": {}
      },
      "source": [
        ""
      ],
      "execution_count": 0,
      "outputs": []
    },
    {
      "cell_type": "code",
      "metadata": {
        "id": "Qi8p29XxBAcS",
        "colab_type": "code",
        "colab": {}
      },
      "source": [
        ""
      ],
      "execution_count": 0,
      "outputs": []
    },
    {
      "cell_type": "markdown",
      "metadata": {
        "id": "uRnF49dPzpc8",
        "colab_type": "text"
      },
      "source": [
        "## 2.1 Preprocess text\n",
        "Label columns are already one hot encoded in the dataframe."
      ]
    },
    {
      "cell_type": "code",
      "metadata": {
        "id": "EK7btXq0d52k",
        "colab_type": "code",
        "colab": {}
      },
      "source": [
        "!pip install ktrain"
      ],
      "execution_count": 0,
      "outputs": []
    },
    {
      "cell_type": "code",
      "metadata": {
        "id": "aIKmkPMTd8hV",
        "colab_type": "code",
        "colab": {}
      },
      "source": [
        "from ktrain import text"
      ],
      "execution_count": 0,
      "outputs": []
    },
    {
      "cell_type": "code",
      "metadata": {
        "id": "Ny_9W-kgvjVV",
        "colab_type": "code",
        "colab": {
          "base_uri": "https://localhost:8080/",
          "height": 301
        },
        "outputId": "01ae668e-cebb-48a0-ff52-9f43b8d2d7b8"
      },
      "source": [
        "df.tail(2)"
      ],
      "execution_count": 9,
      "outputs": [
        {
          "output_type": "execute_result",
          "data": {
            "text/html": [
              "<div>\n",
              "<style scoped>\n",
              "    .dataframe tbody tr th:only-of-type {\n",
              "        vertical-align: middle;\n",
              "    }\n",
              "\n",
              "    .dataframe tbody tr th {\n",
              "        vertical-align: top;\n",
              "    }\n",
              "\n",
              "    .dataframe thead th {\n",
              "        text-align: right;\n",
              "    }\n",
              "</style>\n",
              "<table border=\"1\" class=\"dataframe\">\n",
              "  <thead>\n",
              "    <tr style=\"text-align: right;\">\n",
              "      <th></th>\n",
              "      <th>id</th>\n",
              "      <th>split</th>\n",
              "      <th>message</th>\n",
              "      <th>original</th>\n",
              "      <th>genre</th>\n",
              "      <th>related</th>\n",
              "      <th>request</th>\n",
              "      <th>aid_related</th>\n",
              "      <th>medical_help</th>\n",
              "      <th>medical_products</th>\n",
              "      <th>search_and_rescue</th>\n",
              "      <th>security</th>\n",
              "      <th>military</th>\n",
              "      <th>water</th>\n",
              "      <th>food</th>\n",
              "      <th>shelter</th>\n",
              "      <th>clothing</th>\n",
              "      <th>money</th>\n",
              "      <th>missing_people</th>\n",
              "      <th>refugees</th>\n",
              "      <th>death</th>\n",
              "      <th>other_aid</th>\n",
              "      <th>infrastructure_related</th>\n",
              "      <th>transport</th>\n",
              "      <th>buildings</th>\n",
              "      <th>electricity</th>\n",
              "      <th>tools</th>\n",
              "      <th>hospitals</th>\n",
              "      <th>shops</th>\n",
              "      <th>aid_centers</th>\n",
              "      <th>other_infrastructure</th>\n",
              "      <th>weather_related</th>\n",
              "      <th>floods</th>\n",
              "      <th>storm</th>\n",
              "      <th>fire</th>\n",
              "      <th>earthquake</th>\n",
              "      <th>cold</th>\n",
              "      <th>other_weather</th>\n",
              "      <th>direct_report</th>\n",
              "      <th>uncategorized</th>\n",
              "    </tr>\n",
              "  </thead>\n",
              "  <tbody>\n",
              "    <tr>\n",
              "      <th>23596</th>\n",
              "      <td>30248</td>\n",
              "      <td>validation</td>\n",
              "      <td>WHO is recruiting a sanitary engineer / consul...</td>\n",
              "      <td>None</td>\n",
              "      <td>news</td>\n",
              "      <td>0</td>\n",
              "      <td>0</td>\n",
              "      <td>0</td>\n",
              "      <td>0</td>\n",
              "      <td>0</td>\n",
              "      <td>0</td>\n",
              "      <td>0</td>\n",
              "      <td>0</td>\n",
              "      <td>0</td>\n",
              "      <td>0</td>\n",
              "      <td>0</td>\n",
              "      <td>0</td>\n",
              "      <td>0</td>\n",
              "      <td>0</td>\n",
              "      <td>0</td>\n",
              "      <td>0</td>\n",
              "      <td>0</td>\n",
              "      <td>0</td>\n",
              "      <td>0</td>\n",
              "      <td>0</td>\n",
              "      <td>0</td>\n",
              "      <td>0</td>\n",
              "      <td>0</td>\n",
              "      <td>0</td>\n",
              "      <td>0</td>\n",
              "      <td>0</td>\n",
              "      <td>0</td>\n",
              "      <td>0</td>\n",
              "      <td>0</td>\n",
              "      <td>0</td>\n",
              "      <td>0</td>\n",
              "      <td>0</td>\n",
              "      <td>0</td>\n",
              "      <td>0</td>\n",
              "      <td>1</td>\n",
              "    </tr>\n",
              "    <tr>\n",
              "      <th>23597</th>\n",
              "      <td>30258</td>\n",
              "      <td>validation</td>\n",
              "      <td>However while ECOWAS wanted him to lead a 12-m...</td>\n",
              "      <td>None</td>\n",
              "      <td>news</td>\n",
              "      <td>0</td>\n",
              "      <td>0</td>\n",
              "      <td>0</td>\n",
              "      <td>0</td>\n",
              "      <td>0</td>\n",
              "      <td>0</td>\n",
              "      <td>0</td>\n",
              "      <td>0</td>\n",
              "      <td>0</td>\n",
              "      <td>0</td>\n",
              "      <td>0</td>\n",
              "      <td>0</td>\n",
              "      <td>0</td>\n",
              "      <td>0</td>\n",
              "      <td>0</td>\n",
              "      <td>0</td>\n",
              "      <td>0</td>\n",
              "      <td>0</td>\n",
              "      <td>0</td>\n",
              "      <td>0</td>\n",
              "      <td>0</td>\n",
              "      <td>0</td>\n",
              "      <td>0</td>\n",
              "      <td>0</td>\n",
              "      <td>0</td>\n",
              "      <td>0</td>\n",
              "      <td>0</td>\n",
              "      <td>0</td>\n",
              "      <td>0</td>\n",
              "      <td>0</td>\n",
              "      <td>0</td>\n",
              "      <td>0</td>\n",
              "      <td>0</td>\n",
              "      <td>0</td>\n",
              "      <td>1</td>\n",
              "    </tr>\n",
              "  </tbody>\n",
              "</table>\n",
              "</div>"
            ],
            "text/plain": [
              "          id       split  ... direct_report uncategorized\n",
              "23596  30248  validation  ...             0             1\n",
              "23597  30258  validation  ...             0             1\n",
              "\n",
              "[2 rows x 40 columns]"
            ]
          },
          "metadata": {
            "tags": []
          },
          "execution_count": 9
        }
      ]
    },
    {
      "cell_type": "code",
      "metadata": {
        "id": "WH0iH5PppJKA",
        "colab_type": "code",
        "colab": {
          "base_uri": "https://localhost:8080/",
          "height": 119
        },
        "outputId": "df6d7402-ab3d-484a-f43f-ac5d4a5a730c"
      },
      "source": [
        "NUM_WORDS = 50000\n",
        "MAXLEN = 128\n",
        "\n",
        "# uses 10% of data to split for training/validation if val not specified\n",
        "(x_train, y_train), (x_test, y_test), preproc = text.texts_from_df(df[df['split']=='train'],      # training\n",
        "                                                                   'message',                     # text col                                            \n",
        "                                                                   target_categories,             # label col\n",
        "                                                                   df[df['split']=='validation'], # validation\n",
        "                                                                   max_features=NUM_WORDS,        # max features\n",
        "                                                                   maxlen=MAXLEN,                 # max len\n",
        "                                                                   ngram_range=1,                 # n_gram \n",
        "                                                                   preprocess_mode='bert')        # model\n",
        "\n",
        "# if running BERT, add argument preprocess_mode='bert' (default is 'standard')"
      ],
      "execution_count": 226,
      "outputs": [
        {
          "output_type": "stream",
          "text": [
            "preprocessing train...\n",
            "language: en\n"
          ],
          "name": "stdout"
        },
        {
          "output_type": "display_data",
          "data": {
            "text/html": [
              "done."
            ],
            "text/plain": [
              "<IPython.core.display.HTML object>"
            ]
          },
          "metadata": {
            "tags": []
          }
        },
        {
          "output_type": "stream",
          "text": [
            "preprocessing test...\n",
            "language: en\n"
          ],
          "name": "stdout"
        },
        {
          "output_type": "display_data",
          "data": {
            "text/html": [
              "done."
            ],
            "text/plain": [
              "<IPython.core.display.HTML object>"
            ]
          },
          "metadata": {
            "tags": []
          }
        }
      ]
    },
    {
      "cell_type": "code",
      "metadata": {
        "id": "OjrJenGoToK6",
        "colab_type": "code",
        "colab": {
          "base_uri": "https://localhost:8080/",
          "height": 34
        },
        "outputId": "14706f9c-18a7-4aaa-affa-cacdb852eb0a"
      },
      "source": [
        "(y_test.sum(axis=1) == 0).sum()"
      ],
      "execution_count": 227,
      "outputs": [
        {
          "output_type": "execute_result",
          "data": {
            "text/plain": [
              "0"
            ]
          },
          "metadata": {
            "tags": []
          },
          "execution_count": 227
        }
      ]
    },
    {
      "cell_type": "markdown",
      "metadata": {
        "id": "zOFybXu0zzze",
        "colab_type": "text"
      },
      "source": [
        "# 3.0 Train the model"
      ]
    },
    {
      "cell_type": "markdown",
      "metadata": {
        "id": "q_Yqe-jpz4U3",
        "colab_type": "text"
      },
      "source": [
        "## 3.1 Instantiate the model\n",
        "We'll define our model with Bidirection Gated Recurrent Circuit (`bigru`) architecture using ktrain. Bidirectional GRUs are a type of RNN with only input and forget gates. Pretrained word vectors are loaded from file containing 2million word vectors trained by Facebook."
      ]
    },
    {
      "cell_type": "code",
      "metadata": {
        "id": "MfL93jzUoj5J",
        "colab_type": "code",
        "colab": {
          "base_uri": "https://localhost:8080/",
          "height": 68
        },
        "outputId": "10a3c9ab-4b82-4bf7-8abf-e7d6717c3f97"
      },
      "source": [
        "model = text.text_classifier('bert', (x_train, y_train), preproc=preproc, multilabel=True)"
      ],
      "execution_count": 228,
      "outputs": [
        {
          "output_type": "stream",
          "text": [
            "Is Multi-Label? True\n",
            "maxlen is 128\n",
            "done.\n"
          ],
          "name": "stdout"
        }
      ]
    },
    {
      "cell_type": "code",
      "metadata": {
        "id": "KEIXHTrAq_5k",
        "colab_type": "code",
        "colab": {}
      },
      "source": [
        "# wrap model and data in learner object\n",
        "learner = ktrain.get_learner(model, train_data=(x_train, y_train),\n",
        "                             val_data=(x_test, y_test))"
      ],
      "execution_count": 0,
      "outputs": []
    },
    {
      "cell_type": "markdown",
      "metadata": {
        "id": "nnau9Yiq08GA",
        "colab_type": "text"
      },
      "source": [
        "## 3.2 Estimate a good learning rate"
      ]
    },
    {
      "cell_type": "code",
      "metadata": {
        "id": "1zf-EYyZoj2M",
        "colab_type": "code",
        "colab": {
          "base_uri": "https://localhost:8080/",
          "height": 436
        },
        "outputId": "96dbd5a6-863c-40cc-8722-2cbca8474dd4"
      },
      "source": [
        "# estimate learning rate\n",
        "learner.lr_find(show_plot=True, max_epochs=2)"
      ],
      "execution_count": 15,
      "outputs": [
        {
          "output_type": "stream",
          "text": [
            "simulating training for different learning rates... this may take a few moments...\n",
            "Train on 21027 samples\n",
            "Epoch 1/2\n",
            "21027/21027 [==============================] - 1128s 54ms/sample - loss: 0.3867 - accuracy: 0.8093\n",
            "Epoch 2/2\n",
            " 8384/21027 [==========>...................] - ETA: 11:04 - loss: 0.3842 - accuracy: 0.9054\n",
            "\n",
            "done.\n",
            "Visually inspect loss plot and select learning rate associated with falling loss\n"
          ],
          "name": "stdout"
        },
        {
          "output_type": "display_data",
          "data": {
            "image/png": "[encoded data removed]",
            "text/plain": [
              "<Figure size 432x288 with 1 Axes>"
            ]
          },
          "metadata": {
            "tags": [],
            "needs_background": "light"
          }
        }
      ]
    },
    {
      "cell_type": "code",
      "metadata": {
        "id": "O7z3hbqgrWCp",
        "colab_type": "code",
        "colab": {}
      },
      "source": [
        "LEARN_RATE = 0.00001 #1e-5"
      ],
      "execution_count": 0,
      "outputs": []
    },
    {
      "cell_type": "markdown",
      "metadata": {
        "id": "UswLaeoz2MYX",
        "colab_type": "text"
      },
      "source": [
        "## 3.3 Training"
      ]
    },
    {
      "cell_type": "code",
      "metadata": {
        "id": "Fs4fV5U2uLKc",
        "colab_type": "code",
        "colab": {}
      },
      "source": [
        "# from https://github.com/amaiya/ktrain/blob/master/examples/text/toxic_comments-bigru.ipynb\n",
        "# define a custom callback for ROC-AUC\n",
        "from tensorflow.keras.callbacks import Callback\n",
        "from sklearn.metrics import roc_auc_score\n",
        "class RocAucEvaluation(Callback):\n",
        "  def __init__(self, validation_data=(), interval=1):\n",
        "    super(Callback, self).__init__()\n",
        "\n",
        "    self.interval = interval\n",
        "    self.X_val, self.y_val = validation_data\n",
        "\n",
        "  def on_epoch_end(self, epoch, logs={}):\n",
        "    # evaluate at the end of epoch\n",
        "    if epoch % self.interval == 0:\n",
        "      y_pred = self.model.predict(self.X_val, verbose=0)\n",
        "      score = roc_auc_score(self.y_val, y_pred)\n",
        "      print(\"\\n ROC-AUC - epoch: %d - score: %.6f \\n\" % (epoch+1, score))\n",
        "\n",
        "RocAuc = RocAucEvaluation(validation_data=(x_test, y_test), interval=1)"
      ],
      "execution_count": 0,
      "outputs": []
    },
    {
      "cell_type": "code",
      "metadata": {
        "id": "bDnX6juEgcKz",
        "colab_type": "code",
        "colab": {}
      },
      "source": [
        "import tensorflow as tf"
      ],
      "execution_count": 0,
      "outputs": []
    },
    {
      "cell_type": "code",
      "metadata": {
        "id": "S1RY5_0_Gevg",
        "colab_type": "code",
        "colab": {
          "base_uri": "https://localhost:8080/",
          "height": 275
        },
        "outputId": "25e7cd25-e925-4ee6-a4be-81cb613884b8"
      },
      "source": [
        "# run training using triangular learning rate scheduler\n",
        "NUM_EPOCHS = 2\n",
        "\n",
        "# make sure no null label (i.e. all labels are False) samples if using callback\n",
        "# and predictions are binary\n",
        "with_callback = True\n",
        "\n",
        "with tf.device('/device:GPU:0'):\n",
        "  if with_callback:\n",
        "    learner.autofit(LEARN_RATE, NUM_EPOCHS, callbacks=[RocAuc])\n",
        "  else:\n",
        "    learner.autofit(LEARN_RATE, NUM_EPOCHS)"
      ],
      "execution_count": 230,
      "outputs": [
        {
          "output_type": "stream",
          "text": [
            "\n",
            "\n",
            "begin training using triangular learning rate policy with max lr of 1e-05...\n",
            "Train on 21027 samples, validate on 2571 samples\n",
            "Epoch 1/2\n",
            "21024/21027 [============================>.] - ETA: 0s - loss: 0.2929 - accuracy: 0.8918\n",
            " ROC-AUC - epoch: 1 - score: 0.772915 \n",
            "\n",
            "21027/21027 [==============================] - 1206s 57ms/sample - loss: 0.2929 - accuracy: 0.8918 - val_loss: 0.1829 - val_accuracy: 0.9398\n",
            "Epoch 2/2\n",
            "21024/21027 [============================>.] - ETA: 0s - loss: 0.1725 - accuracy: 0.9423\n",
            " ROC-AUC - epoch: 2 - score: 0.838157 \n",
            "\n",
            "21027/21027 [==============================] - 1177s 56ms/sample - loss: 0.1726 - accuracy: 0.9423 - val_loss: 0.1601 - val_accuracy: 0.9457\n"
          ],
          "name": "stdout"
        }
      ]
    },
    {
      "cell_type": "markdown",
      "metadata": {
        "id": "zArKTvbE3RE6",
        "colab_type": "text"
      },
      "source": [
        "## 3.4 Tuning"
      ]
    },
    {
      "cell_type": "markdown",
      "metadata": {
        "id": "gV8um4x39_O_",
        "colab_type": "text"
      },
      "source": [
        "Using split dataset:\n",
        "* training: 0.9423\n",
        "* validation: 0.9457\n",
        "* ROC-AUC: 0.8382"
      ]
    },
    {
      "cell_type": "markdown",
      "metadata": {
        "id": "GYzoybzl3ff-",
        "colab_type": "text"
      },
      "source": [
        "Dropping only `child_alone` and running with BERT (instead if bigru):\n",
        "* training: 0.9621\n",
        "* validation: 0.9533\n",
        "* ROC-AUC: ~0.90"
      ]
    },
    {
      "cell_type": "markdown",
      "metadata": {
        "id": "yl9Ob2A3thCN",
        "colab_type": "text"
      },
      "source": [
        "Dropping `related` and `child_alone`, accuracy:\n",
        "* training: 0.9246\n",
        "* validation: 0.9246\n",
        "* ROC-AUC: dropping `related` created rows with no True labels, can't run ROC-AUC"
      ]
    },
    {
      "cell_type": "markdown",
      "metadata": {
        "id": "3XRelyluXmph",
        "colab_type": "text"
      },
      "source": [
        "Adding `unclassified` col and increasing `max_len` to 336, accuracy:\n",
        "* training: **0.9222**\n",
        "* validation: **0.9220**\n",
        "* ROC-AUC: **0.9017**\n",
        "\n",
        "2 epochs is enough."
      ]
    },
    {
      "cell_type": "markdown",
      "metadata": {
        "id": "QC0Gv4pK3FD1",
        "colab_type": "text"
      },
      "source": [
        "Accuracy:\n",
        "* training: **0.9263**\n",
        "* validation: **0.9285**\n",
        "* ROC-AUC: can't run ROC-AUC if some samples contain no True labels\n"
      ]
    },
    {
      "cell_type": "markdown",
      "metadata": {
        "id": "bQoM719X2RKe",
        "colab_type": "text"
      },
      "source": [
        "## 3.4 Evaluate ROC-AUC score on validation data"
      ]
    },
    {
      "cell_type": "code",
      "metadata": {
        "id": "IUV4tDbE4QJg",
        "colab_type": "code",
        "colab": {}
      },
      "source": [
        "from matplotlib import pyplot as plt\n",
        "%matplotlib inline"
      ],
      "execution_count": 0,
      "outputs": []
    },
    {
      "cell_type": "code",
      "metadata": {
        "id": "YoVd10Er5DoV",
        "colab_type": "code",
        "colab": {
          "base_uri": "https://localhost:8080/",
          "height": 34
        },
        "outputId": "4e2aee00-aa58-4b68-b149-643f31ed3bd3"
      },
      "source": [
        "y_pred = model.predict(x_test, verbose=1)"
      ],
      "execution_count": 231,
      "outputs": [
        {
          "output_type": "stream",
          "text": [
            "2571/2571 [==============================] - 39s 15ms/sample\n"
          ],
          "name": "stdout"
        }
      ]
    },
    {
      "cell_type": "code",
      "metadata": {
        "id": "VWQQsN1aApkI",
        "colab_type": "code",
        "colab": {}
      },
      "source": [
        "plt.style.use('dark_background')"
      ],
      "execution_count": 0,
      "outputs": []
    },
    {
      "cell_type": "code",
      "metadata": {
        "id": "CUkTjbhU4eH1",
        "colab_type": "code",
        "colab": {
          "base_uri": "https://localhost:8080/",
          "height": 281
        },
        "outputId": "ce2b3c24-d984-4fd2-f170-a35dd07e1c16"
      },
      "source": [
        "plt.imshow(y_pred[0:50])\n",
        "plt.colorbar()\n",
        "plt.ylabel('sample')\n",
        "plt.xlabel('predicted label probability');"
      ],
      "execution_count": 232,
      "outputs": [
        {
          "output_type": "display_data",
          "data": {
            "image/png": "[encoded data removed]",
            "text/plain": [
              "<Figure size 432x288 with 2 Axes>"
            ]
          },
          "metadata": {
            "tags": []
          }
        }
      ]
    },
    {
      "cell_type": "code",
      "metadata": {
        "id": "lbVZMCwYCW0W",
        "colab_type": "code",
        "colab": {
          "base_uri": "https://localhost:8080/",
          "height": 283
        },
        "outputId": "e61307de-91d1-4235-d626-87826516e2e1"
      },
      "source": [
        "plt.imshow(y_test[0:50])\n",
        "plt.colorbar()\n",
        "plt.ylabel('sample')\n",
        "plt.xlabel('true label');"
      ],
      "execution_count": 233,
      "outputs": [
        {
          "output_type": "display_data",
          "data": {
            "image/png": "[encoded data removed]",
            "text/plain": [
              "<Figure size 432x288 with 2 Axes>"
            ]
          },
          "metadata": {
            "tags": []
          }
        }
      ]
    },
    {
      "cell_type": "code",
      "metadata": {
        "id": "ZVRfWC6N02F6",
        "colab_type": "code",
        "colab": {
          "base_uri": "https://localhost:8080/",
          "height": 34
        },
        "outputId": "53b4ecb3-bc04-41cc-9366-e4967ef6f0f0"
      },
      "source": [
        "# no samples can be \"unlabelled\" in order for ROC-AUC to work\n",
        "(y_test.sum(axis=1) == 0).sum()"
      ],
      "execution_count": 58,
      "outputs": [
        {
          "output_type": "execute_result",
          "data": {
            "text/plain": [
              "0"
            ]
          },
          "metadata": {
            "tags": []
          },
          "execution_count": 58
        }
      ]
    },
    {
      "cell_type": "code",
      "metadata": {
        "id": "4MhD6jXP62XQ",
        "colab_type": "code",
        "colab": {
          "base_uri": "https://localhost:8080/",
          "height": 34
        },
        "outputId": "42f661fd-378b-478d-d1f5-d3ee65d76f3e"
      },
      "source": [
        "from sklearn.metrics import roc_auc_score\n",
        "\n",
        "y_pred_thresh = (y_pred>0.3)\n",
        "avg_score = 0\n",
        "for idx, row in enumerate(y_pred_thresh):\n",
        "  try:\n",
        "    score = roc_auc_score(y_test[idx], row, average='macro', multi_class='ovo', labels=target_categories)\n",
        "    avg_score += score\n",
        "  except:\n",
        "    print(idx, row)\n",
        "avg_score = avg_score / y_pred.shape[0]\n",
        "print(f'Average ROC-AUC score if set threshold to 0.3 is {avg_score}')"
      ],
      "execution_count": 235,
      "outputs": [
        {
          "output_type": "stream",
          "text": [
            "Average ROC-AUC score if set threshold to 0.3 is 0.8680170212292859\n"
          ],
          "name": "stdout"
        }
      ]
    },
    {
      "cell_type": "code",
      "metadata": {
        "id": "3gQ9CFw-5Mh1",
        "colab_type": "code",
        "colab": {}
      },
      "source": [
        "from sklearn.metrics import accuracy_score\n",
        "from sklearn.metrics import f1_score\n",
        "from sklearn.metrics import hamming_loss\n",
        "\n",
        "thresh = np.linspace(0.1, 0.5, num=50)\n",
        "avg_score_auc_list = []\n",
        "avg_score_accuracy_list = []\n",
        "avg_score_f1_list = []\n",
        "avg_score_hl_list = []\n",
        "\n",
        "for t in thresh:\n",
        "  y_pred_thresh = (y_pred>t)\n",
        "  avg_score_auc, avg_score_a, avg_score_f1, avg_score_hl = 0, 0, 0, 0\n",
        "\n",
        "  for idx, row in enumerate(y_pred_thresh):\n",
        "    try:\n",
        "      # weighted: calculate metrics for each label, and find their weighted mean, takes label imbalance into account\n",
        "      score_auc = roc_auc_score(y_test[idx], row, average='weighted')\n",
        "      avg_score_auc += score_auc\n",
        "\n",
        "      score_a = accuracy_score(y_test[idx], row)\n",
        "      avg_score_a += score_a\n",
        "\n",
        "      score_f1 = f1_score(y_test[idx], row, average='weighted')\n",
        "      avg_score_f1 += score_f1\n",
        "\n",
        "      score_hl = hamming_loss(y_test[idx], row)\n",
        "      avg_score_hl += score_hl\n",
        "    except:\n",
        "      print(idx, row)\n",
        "\n",
        "  avg_score_auc_list.append(avg_score_auc / y_pred.shape[0])\n",
        "  avg_score_accuracy_list.append(avg_score_a / y_pred.shape[0])\n",
        "  avg_score_f1_list.append(avg_score_f1 / y_pred.shape[0])\n",
        "  avg_score_hl_list.append(avg_score_hl / y_pred.shape[0])"
      ],
      "execution_count": 0,
      "outputs": []
    },
    {
      "cell_type": "code",
      "metadata": {
        "id": "AeE7QTdwFMPR",
        "colab_type": "code",
        "colab": {}
      },
      "source": [
        "ind_list = (np.linspace(0,len(thresh)-1, num=6, dtype='int')).tolist()"
      ],
      "execution_count": 0,
      "outputs": []
    },
    {
      "cell_type": "code",
      "metadata": {
        "id": "Q5JdrDDu8i62",
        "colab_type": "code",
        "colab": {
          "base_uri": "https://localhost:8080/",
          "height": 279
        },
        "outputId": "b5dcd1b5-925d-469f-d2ff-68c6cdc2e6d0"
      },
      "source": [
        "fig, ax = plt.subplots()\n",
        "ax.scatter(np.arange(len(thresh)), avg_score_auc_list, label='Weighted ROC-AUC')\n",
        "ax.scatter(np.arange(len(thresh)), avg_score_accuracy_list, label='Accuracy')\n",
        "ax.scatter(np.arange(len(thresh)), avg_score_f1_list, label='Weighted F1')\n",
        "ax2 = ax.twinx()\n",
        "ax2.scatter(np.arange(len(thresh)), avg_score_hl_list, label='Hamming Loss', color='white')\n",
        "#plt.xticks(np.arange(0,len(thresh),10), np.round(thresh[ind_list],2))\n",
        "ax.set_xticklabels(np.hstack([0, np.round(thresh[ind_list],2)]))\n",
        "ax.legend()\n",
        "ax2.legend()\n",
        "ax.set_xlabel('threshold')\n",
        "ax.set_ylabel('Average score')\n",
        "ax2.set_ylabel('Hamming score');"
      ],
      "execution_count": 238,
      "outputs": [
        {
          "output_type": "display_data",
          "data": {
            "image/png": "[encoded data removed]",
            "text/plain": [
              "<Figure size 432x288 with 2 Axes>"
            ]
          },
          "metadata": {
            "tags": []
          }
        }
      ]
    },
    {
      "cell_type": "code",
      "metadata": {
        "id": "2EmClkVz9Z7b",
        "colab_type": "code",
        "colab": {
          "base_uri": "https://localhost:8080/",
          "height": 34
        },
        "outputId": "aa7fe425-361d-4424-8986-2b60b9c9f809"
      },
      "source": [
        "print(f'Max ROC-AUC score at a threshold of {thresh[avg_score_auc_list.index(max(avg_score_auc_list))]}')"
      ],
      "execution_count": 149,
      "outputs": [
        {
          "output_type": "stream",
          "text": [
            "Max ROC-AUC score at a threshold of 0.14081632653061227\n"
          ],
          "name": "stdout"
        }
      ]
    },
    {
      "cell_type": "code",
      "metadata": {
        "id": "_g4zilUkdxoe",
        "colab_type": "code",
        "colab": {}
      },
      "source": [
        "best_thresh_auc = thresh[avg_score_auc_list.index(max(avg_score_auc_list))]"
      ],
      "execution_count": 0,
      "outputs": []
    },
    {
      "cell_type": "code",
      "metadata": {
        "id": "Kbztcq9zQhW9",
        "colab_type": "code",
        "colab": {
          "base_uri": "https://localhost:8080/",
          "height": 85
        },
        "outputId": "abb5be15-4644-458f-ac6b-7eb29825a180"
      },
      "source": [
        "print(f'Accuracy: {avg_score_auc_list[avg_score_auc_list.index(max(avg_score_auc_list))]} \\\n",
        "      \\nF1 score: {avg_score_f1_list[avg_score_auc_list.index(max(avg_score_auc_list))]} \\\n",
        "      \\nAUC-SCORE: {avg_score_auc_list[avg_score_auc_list.index(max(avg_score_auc_list))]} \\\n",
        "      \\nHamming loss: {avg_score_hl_list[avg_score_auc_list.index(max(avg_score_auc_list))]}')"
      ],
      "execution_count": 257,
      "outputs": [
        {
          "output_type": "stream",
          "text": [
            "Accuracy: 0.8918457879041098       \n",
            "F1 score: 0.9228728374073598       \n",
            "AUC-SCORE: 0.8918457879041098       \n",
            "Hamming loss: 0.08656998388620506\n"
          ],
          "name": "stdout"
        }
      ]
    },
    {
      "cell_type": "code",
      "metadata": {
        "id": "t_zb4hfrSBEE",
        "colab_type": "code",
        "colab": {
          "base_uri": "https://localhost:8080/",
          "height": 295
        },
        "outputId": "286792b6-27a8-433f-ce5b-7bffd5a29582"
      },
      "source": [
        "from scipy.stats.mstats import gmean\n",
        "gmean_ = [gmean([a,b]) for a,b in zip(avg_score_f1_list, avg_score_auc_list)]\n",
        "plt.title('geometric mean of weighted ROC-AUC and weighted F1')\n",
        "plt.scatter(np.arange(len(thresh)), gmean_)\n",
        "plt.xticks(np.arange(0,len(thresh),10), np.round(thresh[ind_list],2))\n",
        "plt.xlabel('threshold');"
      ],
      "execution_count": 261,
      "outputs": [
        {
          "output_type": "display_data",
          "data": {
            "image/png": "[encoded data removed]",
            "text/plain": [
              "<Figure size 432x288 with 1 Axes>"
            ]
          },
          "metadata": {
            "tags": []
          }
        }
      ]
    },
    {
      "cell_type": "code",
      "metadata": {
        "id": "eA7AZOOXSmk3",
        "colab_type": "code",
        "colab": {
          "base_uri": "https://localhost:8080/",
          "height": 34
        },
        "outputId": "630e9e30-333a-4290-8e32-037d47bc569e"
      },
      "source": [
        "best_thresh_mean = thresh[gmean_.index(max(gmean_))]\n",
        "print(f'Max score at a threshold of {best_thresh_mean}')"
      ],
      "execution_count": 263,
      "outputs": [
        {
          "output_type": "stream",
          "text": [
            "Max score at a threshold of 0.18979591836734694\n"
          ],
          "name": "stdout"
        }
      ]
    },
    {
      "cell_type": "code",
      "metadata": {
        "id": "xSGnJ3qKTJHT",
        "colab_type": "code",
        "colab": {
          "base_uri": "https://localhost:8080/",
          "height": 85
        },
        "outputId": "50cfcb69-bc0f-44b8-8c59-6af609e5e2bc"
      },
      "source": [
        "print(f'Accuracy: {avg_score_auc_list[gmean_.index(max(gmean_))]} \\\n",
        "      \\nF1 score: {avg_score_f1_list[gmean_.index(max(gmean_))]} \\\n",
        "      \\nAUC-SCORE: {avg_score_auc_list[gmean_.index(max(gmean_))]} \\\n",
        "      \\nHamming loss: {avg_score_hl_list[gmean_.index(max(gmean_))]}')"
      ],
      "execution_count": 264,
      "outputs": [
        {
          "output_type": "stream",
          "text": [
            "Accuracy: 0.8889179157007003       \n",
            "F1 score: 0.9312149181776512       \n",
            "AUC-SCORE: 0.8889179157007003       \n",
            "Hamming loss: 0.0749902761571391\n"
          ],
          "name": "stdout"
        }
      ]
    },
    {
      "cell_type": "code",
      "metadata": {
        "id": "nivlq-N-i_AN",
        "colab_type": "code",
        "colab": {}
      },
      "source": [
        "best_thresh = np.round(best_thresh_mean, 2)"
      ],
      "execution_count": 0,
      "outputs": []
    },
    {
      "cell_type": "code",
      "metadata": {
        "id": "ajMiQpLyjv9D",
        "colab_type": "code",
        "colab": {
          "base_uri": "https://localhost:8080/",
          "height": 281
        },
        "outputId": "b1076c70-27f9-463f-c9ec-ba323276f10c"
      },
      "source": [
        "fig, ax= plt.subplots()\n",
        "img = ax.imshow(y_pred[0:50])\n",
        "fig.colorbar(img)\n",
        "ax.set_ylabel('sample')\n",
        "ax.set_xlabel('predicted label');"
      ],
      "execution_count": 242,
      "outputs": [
        {
          "output_type": "display_data",
          "data": {
            "image/png": "[encoded data removed]",
            "text/plain": [
              "<Figure size 432x288 with 2 Axes>"
            ]
          },
          "metadata": {
            "tags": []
          }
        }
      ]
    },
    {
      "cell_type": "code",
      "metadata": {
        "id": "AnMLRsn99XAC",
        "colab_type": "code",
        "colab": {
          "base_uri": "https://localhost:8080/",
          "height": 283
        },
        "outputId": "77f169b7-2a45-4d21-c5a0-db6dba9dade9"
      },
      "source": [
        "fig, ax= plt.subplots()\n",
        "img = ax.imshow(y_pred[0:50]>best_thresh)\n",
        "fig.colorbar(img)\n",
        "ax.set_ylabel('sample')\n",
        "ax.set_xlabel('classified predicted label');"
      ],
      "execution_count": 267,
      "outputs": [
        {
          "output_type": "display_data",
          "data": {
            "image/png": "[encoded data removed]",
            "text/plain": [
              "<Figure size 432x288 with 2 Axes>"
            ]
          },
          "metadata": {
            "tags": []
          }
        }
      ]
    },
    {
      "cell_type": "code",
      "metadata": {
        "id": "nIc2k0it_nPx",
        "colab_type": "code",
        "colab": {
          "base_uri": "https://localhost:8080/",
          "height": 283
        },
        "outputId": "107248da-aaa9-4326-daa4-ff4106172969"
      },
      "source": [
        "# true label\n",
        "fig, ax= plt.subplots()\n",
        "img = ax.imshow(y_test[0:50])\n",
        "fig.colorbar(img)\n",
        "ax.set_ylabel('sample')\n",
        "ax.set_xlabel('true label');\n"
      ],
      "execution_count": 244,
      "outputs": [
        {
          "output_type": "display_data",
          "data": {
            "image/png": "[encoded data removed]",
            "text/plain": [
              "<Figure size 432x288 with 2 Axes>"
            ]
          },
          "metadata": {
            "tags": []
          }
        }
      ]
    },
    {
      "cell_type": "code",
      "metadata": {
        "id": "NSUBusjr5SLV",
        "colab_type": "code",
        "colab": {}
      },
      "source": [
        "from sklearn.metrics import roc_auc_score\n",
        "\n",
        "avg_score = 0\n",
        "for idx, row in enumerate(y_pred):\n",
        "  try:\n",
        "    score = roc_auc_score(y_test[idx], row, average='macro', multi_class='ovo', labels=target_categories)\n",
        "    avg_score += score\n",
        "  except:\n",
        "    print(idx, row)\n",
        "\n",
        "avg_score = avg_score / y_pred.shape[0]\n",
        "print(f'Average ROC-AUC score is {avg_score}')"
      ],
      "execution_count": 0,
      "outputs": []
    },
    {
      "cell_type": "markdown",
      "metadata": {
        "id": "gybAzvnDWX-3",
        "colab_type": "text"
      },
      "source": [
        "# 4.0 Check interpretability for a validation example"
      ]
    },
    {
      "cell_type": "code",
      "metadata": {
        "id": "C2tsQILaWhLh",
        "colab_type": "code",
        "colab": {}
      },
      "source": [
        "predictor = ktrain.get_predictor(learner.model, preproc=preproc)"
      ],
      "execution_count": 0,
      "outputs": []
    },
    {
      "cell_type": "code",
      "metadata": {
        "id": "gj3d_BqmKBfz",
        "colab_type": "code",
        "colab": {
          "base_uri": "https://localhost:8080/",
          "height": 17
        },
        "outputId": "2f2c7a6f-bc3b-42cb-ce53-5844308cf3c4"
      },
      "source": [
        "y_pred_test = predictor.predict([\"We are more than 50 people on the street. Please help us find tent, food\"])"
      ],
      "execution_count": 169,
      "outputs": [
        {
          "output_type": "display_data",
          "data": {
            "text/html": [
              ""
            ],
            "text/plain": [
              "<IPython.core.display.HTML object>"
            ]
          },
          "metadata": {
            "tags": []
          }
        }
      ]
    },
    {
      "cell_type": "code",
      "metadata": {
        "id": "U_haryxHj6YV",
        "colab_type": "code",
        "colab": {
          "base_uri": "https://localhost:8080/",
          "height": 326
        },
        "outputId": "654c5aa6-e35e-4739-db85-961126c566ae"
      },
      "source": [
        "category = []\n",
        "probability = []\n",
        "\n",
        "for item in y_pred_test[0]:\n",
        "  category.append(item[0])\n",
        "  probability.append(item[1])\n",
        "\n",
        "fig, ax = plt.subplots()\n",
        "ax.bar(np.arange(len(category)), probability)\n",
        "ax.set_xticklabels(category, rotation=40);"
      ],
      "execution_count": 173,
      "outputs": [
        {
          "output_type": "display_data",
          "data": {
            "image/png": "[encoded data removed]",
            "text/plain": [
              "<Figure size 432x288 with 1 Axes>"
            ]
          },
          "metadata": {
            "tags": []
          }
        }
      ]
    },
    {
      "cell_type": "code",
      "metadata": {
        "id": "uJd200HHkiyP",
        "colab_type": "code",
        "colab": {
          "base_uri": "https://localhost:8080/",
          "height": 306
        },
        "outputId": "bc6c47df-8c40-47e3-a460-b4987aef0fc4"
      },
      "source": [
        "# by just looking at the labels with predictions > 0.2\n",
        "\n",
        "category = []\n",
        "probability = []\n",
        "\n",
        "for item in y_pred_test[0]:\n",
        "  if item[1]>0.2:\n",
        "    category.append(item[0])\n",
        "    probability.append(item[1])\n",
        "\n",
        "fig, ax = plt.subplots()\n",
        "ax.bar(np.arange(len(category)), probability)\n",
        "ax.set_xticklabels(np.hstack(['0', category]), rotation=40);"
      ],
      "execution_count": 178,
      "outputs": [
        {
          "output_type": "display_data",
          "data": {
            "image/png": "[encoded data removed]",
            "text/plain": [
              "<Figure size 432x288 with 1 Axes>"
            ]
          },
          "metadata": {
            "tags": []
          }
        }
      ]
    },
    {
      "cell_type": "code",
      "metadata": {
        "id": "L4268dWCxfoe",
        "colab_type": "code",
        "colab": {
          "base_uri": "https://localhost:8080/",
          "height": 34
        },
        "outputId": "a906be26-d845-4b7e-e9b0-f78725511b0b"
      },
      "source": [
        "y_pred_test[0][0]"
      ],
      "execution_count": 194,
      "outputs": [
        {
          "output_type": "execute_result",
          "data": {
            "text/plain": [
              "('related', 0.9653509)"
            ]
          },
          "metadata": {
            "tags": []
          },
          "execution_count": 194
        }
      ]
    },
    {
      "cell_type": "code",
      "metadata": {
        "id": "ZebtHwxhLfLu",
        "colab_type": "code",
        "colab": {
          "base_uri": "https://localhost:8080/",
          "height": 153
        },
        "outputId": "ba7737d6-7f91-4be1-8060-4b6e8dbb2e3d"
      },
      "source": [
        "proba = predictor.predict_proba([\"We are more than 50 people on the street. Please help us find tent, food\"])\n",
        "proba"
      ],
      "execution_count": 179,
      "outputs": [
        {
          "output_type": "display_data",
          "data": {
            "text/html": [
              ""
            ],
            "text/plain": [
              "<IPython.core.display.HTML object>"
            ]
          },
          "metadata": {
            "tags": []
          }
        },
        {
          "output_type": "execute_result",
          "data": {
            "text/plain": [
              "array([[0.9653509 , 0.8818212 , 0.94036984, 0.146092  , 0.19550593,\n",
              "        0.06301989, 0.04434655, 0.03172754, 0.41869023, 0.83398324,\n",
              "        0.56947577, 0.13086635, 0.04902482, 0.0504084 , 0.09431522,\n",
              "        0.04250012, 0.24644381, 0.08745599, 0.06539655, 0.07432987,\n",
              "        0.08099597, 0.03165624, 0.02731479, 0.0305072 , 0.03498624,\n",
              "        0.07710399, 0.10933775, 0.06739019, 0.03280334, 0.02782248,\n",
              "        0.04662247, 0.03777857, 0.05025714, 0.82884526, 0.02279187]],\n",
              "      dtype=float32)"
            ]
          },
          "metadata": {
            "tags": []
          },
          "execution_count": 179
        }
      ]
    },
    {
      "cell_type": "code",
      "metadata": {
        "id": "-N80ITmKx8dc",
        "colab_type": "code",
        "colab": {}
      },
      "source": [
        "classification_results = {target_category : prob for target_category, prob in zip(target_categories, proba[0])}"
      ],
      "execution_count": 0,
      "outputs": []
    },
    {
      "cell_type": "code",
      "metadata": {
        "id": "rTQ3CSJ0-vNe",
        "colab_type": "code",
        "colab": {
          "base_uri": "https://localhost:8080/",
          "height": 153
        },
        "outputId": "41f8675e-b79e-4449-f1cd-b1f4882697c2"
      },
      "source": [
        "for category, classification in classification_results.items():\n",
        "  if classification > 0.2:\n",
        "    print(category)"
      ],
      "execution_count": 222,
      "outputs": [
        {
          "output_type": "stream",
          "text": [
            "related\n",
            "request\n",
            "aid_related\n",
            "water\n",
            "food\n",
            "shelter\n",
            "other_aid\n",
            "direct_report\n"
          ],
          "name": "stdout"
        }
      ]
    },
    {
      "cell_type": "code",
      "metadata": {
        "id": "OI1wmv69Womi",
        "colab_type": "code",
        "colab": {}
      },
      "source": [
        "import eli5\n",
        "from eli5.lime import TextExplainer\n",
        "\n",
        "test_doc = \"We are more than 50 people on the street. Please help us find tent, food\"\n",
        "\n",
        "te = TextExplainer(random_state=32)\n",
        "te.fit(test_doc, predictor.predict_proba)\n",
        "\n",
        "te.show_prediction(target_names=target_categories)"
      ],
      "execution_count": 0,
      "outputs": []
    },
    {
      "cell_type": "markdown",
      "metadata": {
        "id": "EMNqhObTJH5A",
        "colab_type": "text"
      },
      "source": [
        "# 5.0 Predict on new data"
      ]
    },
    {
      "cell_type": "code",
      "metadata": {
        "id": "IOkUceUvYEJs",
        "colab_type": "code",
        "colab": {}
      },
      "source": [
        "# Instantiate predictor object\n",
        "predictor = ktrain.get_predictor(learner.model, preproc=preproc)"
      ],
      "execution_count": 0,
      "outputs": []
    },
    {
      "cell_type": "code",
      "metadata": {
        "id": "7zl2fuN68LV_",
        "colab_type": "code",
        "colab": {}
      },
      "source": [
        "# save as JSON file\n",
        "model_json = learner.model.to_json()\n",
        "with open(\"model.json\", \"w\") as json_file:\n",
        "  json_file.write(model_json)"
      ],
      "execution_count": 0,
      "outputs": []
    },
    {
      "cell_type": "code",
      "metadata": {
        "id": "PsezmhmI86KI",
        "colab_type": "code",
        "colab": {}
      },
      "source": [
        "learner.model.save_weights('model.h5')"
      ],
      "execution_count": 0,
      "outputs": []
    },
    {
      "cell_type": "code",
      "metadata": {
        "id": "Dvx35Yipz1KF",
        "colab_type": "code",
        "colab": {}
      },
      "source": [
        "# can load from saved model and preproc\n",
        "import h5py    \n",
        "import pickle\n",
        " \n",
        "model = h5py.File(\"/content/bert_finetuned_model\",'r+')\n",
        "preproc = pickle.load(open(\"/content/bert_finetuned_model.preproc\",\"rb\"))"
      ],
      "execution_count": 0,
      "outputs": []
    },
    {
      "cell_type": "code",
      "metadata": {
        "id": "zf6yn_pk9NMa",
        "colab_type": "code",
        "colab": {}
      },
      "source": [
        "#predictor = ktrain.get_predictor(learner.model, preproc)\n",
        "#predictor.save('/content/bert_finetuned_model')\n",
        "\n",
        "loaded_model = ktrain.load_predictor('bert_finetuned_model')"
      ],
      "execution_count": 0,
      "outputs": []
    },
    {
      "cell_type": "code",
      "metadata": {
        "id": "-jGdfUUAJJ35",
        "colab_type": "code",
        "colab": {}
      },
      "source": [
        "y_pred = predictor.predict([\"We are more than 50 people on the street. Please help us find tent, food\"])\n",
        "\n",
        "# predicted probability scores for each category (neg, neutral, pos)\n",
        "y_pred_prob = predictor.predict_proba(['We are more than 50 people on the street. Please help us find tent, food'])"
      ],
      "execution_count": 0,
      "outputs": []
    },
    {
      "cell_type": "code",
      "metadata": {
        "id": "VReZ4PawWWpu",
        "colab_type": "code",
        "colab": {}
      },
      "source": [
        ""
      ],
      "execution_count": 0,
      "outputs": []
    },
    {
      "cell_type": "code",
      "metadata": {
        "id": "rxw-9l2naJxx",
        "colab_type": "code",
        "colab": {}
      },
      "source": [
        "from matplotlib import pyplot as plt\n",
        "import numpy as np"
      ],
      "execution_count": 0,
      "outputs": []
    },
    {
      "cell_type": "code",
      "metadata": {
        "id": "gPqwgeXUaMlA",
        "colab_type": "code",
        "colab": {}
      },
      "source": [
        "%matplotlib inline"
      ],
      "execution_count": 0,
      "outputs": []
    },
    {
      "cell_type": "code",
      "metadata": {
        "id": "3LPyetCBZHPm",
        "colab_type": "code",
        "colab": {
          "base_uri": "https://localhost:8080/",
          "height": 266
        },
        "outputId": "46276ad9-12d2-42f3-99d5-518d494a30d7"
      },
      "source": [
        "category = []\n",
        "probability = []\n",
        "\n",
        "for item in y_pred[0]:\n",
        "  category.append(item[0])\n",
        "  probability.append(item[1])\n",
        "\n",
        "fig, ax = plt.subplots()\n",
        "ax.bar(np.arange(len(category)), probability)\n",
        "ax.set_xticklabels(category);"
      ],
      "execution_count": 34,
      "outputs": [
        {
          "output_type": "display_data",
          "data": {
            "image/png": "[encoded data removed]",
            "text/plain": [
              "<Figure size 432x288 with 1 Axes>"
            ]
          },
          "metadata": {
            "tags": [],
            "needs_background": "light"
          }
        }
      ]
    },
    {
      "cell_type": "markdown",
      "metadata": {
        "id": "z7b-wMfsJ_hK",
        "colab_type": "text"
      },
      "source": [
        "# 5.0 Save predictor object"
      ]
    },
    {
      "cell_type": "code",
      "metadata": {
        "id": "6B19xEs2KBtX",
        "colab_type": "code",
        "colab": {}
      },
      "source": [
        "# saved as h5 file\n",
        "predictor.save('/content/bert_finetuned_model')"
      ],
      "execution_count": 0,
      "outputs": []
    },
    {
      "cell_type": "code",
      "metadata": {
        "id": "oZtRuVehve3F",
        "colab_type": "code",
        "colab": {}
      },
      "source": [
        ""
      ],
      "execution_count": 0,
      "outputs": []
    }
  ]
}